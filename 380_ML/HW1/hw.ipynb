{
 "cells": [
  {
   "cell_type": "markdown",
   "metadata": {
    "collapsed": false
   },
   "source": [
    "### Homework 1\n",
    "\n",
    "This homework will familiarize you with some of the skills we'll need in the rest of the course.\n",
    "\n",
    "Please answer the questions in this worksheet in the provided cells.\n",
    "\n",
    "Some answers might require you to shift to Markdown mode if a text based answer is required.  If mathematical symbols are needed in an answer please use $\\LaTeX$.  If you aren't sure how, it might be helpful to look at the source for the questions themselves by double clicking.  There is a lot of info on $\\LaTeX$ online.  [This](http://www.malinc.se/math/latex/basiccodeen.php) might be helpful.\n",
    "\n",
    "If a code based answer is needed be sure that your cell is in Code mode.  \n",
    "\n",
    "Feel free to collaborate on this project, but please limit team sizes to 3 and acknowledge your collaborators.  \n",
    "\n",
    "**Due 2/14/19**\n"
   ]
  },
  {
   "cell_type": "markdown",
   "metadata": {
    "collapsed": false
   },
   "source": [
    "#### Question 1\n",
    "\n",
    "Suppose $f(x,y,z,a,b,c) = \\frac{1}{1+exp(ax + by + cz)}$, where $exp()$ is alternative notation for the exponential function $e^x$.  (This question uses partial derivatives.  If you are unfamiliar with partial derivatives you can watch [this](https://www.khanacademy.org/math/multivariable-calculus/multivariable-derivatives/partial-derivatives/v/partial-derivatives-introduction) short video).\n",
    "\n",
    "1. What is $\\frac{\\partial f}{\\partial a}$?\n",
    "1. If $w = f(x,y,z,a,b,c)$, show that $\\frac{\\partial f}{\\partial a} = xw\\cdot(w-1)$.\n",
    "1. Let $\\nabla_{abc} f$ denote the vector $\\langle \\frac{\\partial f}{\\partial a},\\frac{\\partial f}{\\partial b},\\frac{\\partial f}{\\partial c} \\rangle ^ T$. (If you aren't sure what $T$ means, please read [this](https://en.wikipedia.org/wiki/Row_and_column_vectors). By default all our vectors are column vectors.  If you've never encountered the gradient before you can watch [this](https://www.khanacademy.org/math/multivariable-calculus/multivariable-derivatives/gradient-and-directional-derivatives/v/gradient) video.)\n",
    "    1. Write an expression for $\\nabla_{abc} f$ by evaluating all the partial derivatives.\n",
    "    1. What is $\\nabla_{abc} f$ (as a vector of real numbers) if $x=y=z=a=b=c=1$?\n"
   ]
  },
  {
   "cell_type": "code",
   "execution_count": 0,
   "metadata": {
    "collapsed": false
   },
   "outputs": [
   ],
   "source": [
   ]
  },
  {
   "cell_type": "markdown",
   "metadata": {
    "collapsed": false
   },
   "source": [
    "### 1\n",
    "$-\\frac{x*exp(ax+by+cz)}{(exp(ax+by+cz) + 1)^2}$"
   ]
  },
  {
   "cell_type": "markdown",
   "metadata": {
    "collapsed": false
   },
   "source": [
    "### 2\n",
    "\n",
    "x$\\frac{1}{1 + exp(ax+by+cz)} * (\\frac{1}{1 + exp(ax+by+cz)} - 1)$\n",
    "\n",
    "\n",
    "$\\frac{1}{(1 + exp(ax+by+cz)^2)} - \\frac{x}{1 + exp(ax+by+cz)}$\n",
    "\n"
   ]
  },
  {
   "cell_type": "markdown",
   "metadata": {
    "collapsed": false
   },
   "source": [
    "### 3\n",
    "\n",
    "3.1 $\\nabla_{abc}$ f = $\\langle -\\frac{x*exp(ax+by+cz)}{(exp(ax+by+cz) + 1)^2},-\\frac{y*exp(ax+by+cz)}{(exp(ax+by+cz) + 1)^2},-\\frac{z*exp(ax+by+cz)}{(exp(ax+by+cz) + 1)^2} \\rangle ^ T$\n",
    "\n",
    "3.2 $\\nabla_{abc}$ f = $\\langle -\\frac{e}{(e + 1)^2},-\\frac{e}{(e + 1)^2},-\\frac{e}{(e + 1)^2} \\rangle ^ T$"
   ]
  },
  {
   "cell_type": "markdown",
   "metadata": {
    "collapsed": false
   },
   "source": [
    "#### Question 2\n",
    "\n",
    "This is a question about [matrix multiplication](https://www.khanacademy.org/math/precalculus/precalc-matrices/multiplying-matrices-by-matrices/v/multiplying-a-matrix-by-a-matrix).  Feel free to use numpy to help with the multiplications. [Here](https://web.stanford.edu/class/cs231a/section/section1.pdf) is a nice review/summary of linear algebra, and how to do it in python.\n",
    "\n",
    "Suppose \n",
    "\n",
    "$ M = \\left ( \\begin{matrix}1 & 2 & 3\\\\4 & 5 &6\\end{matrix} \\right )$\n",
    "\n",
    "1.  What is $MM^T$?\n",
    "1.  What is $M^T(MM^T)$?\n",
    "1.  What is $(MM^T)^{-1}$?\n",
    "1.  Let $H = M^T(MM^T)^{-1}M$.  Verify that $H$ is symmetric ($H = H^T$) and that $H^2 = H$.\n",
    "1.  If $w = \\langle 7,8,9 \\rangle ^T$, then what is $Mw$?"
   ]
  },
  {
   "cell_type": "code",
   "execution_count": 4,
   "metadata": {
    "collapsed": false
   },
   "outputs": [
    {
     "name": "stdout",
     "output_type": "stream",
     "text": [
      "True\n"
     ]
    },
    {
     "data": {
      "text/plain": [
       "array([ 50, 122])"
      ]
     },
     "execution_count": 4,
     "metadata": {
     },
     "output_type": "execute_result"
    }
   ],
   "source": [
    "import numpy as np\n",
    "\n",
    "M = [1,2,3,4,5,6]\n",
    "M = np.array(M)\n",
    "M = M.reshape(2,3)\n",
    "Mt = M.T\n",
    "#1.\n",
    "MMt = M.dot(Mt)\n",
    "MMt = np.array(MMt)\n",
    "#2\n",
    "Mt.dot(MMt) \n",
    "#3. \n",
    "MMtinv = np.linalg.inv(MMt)\n",
    "#4. \n",
    "H = (Mt.dot(MMtinv)).dot(M)\n",
    "H = np.array(H)\n",
    "#H.shape = H.T.shape\n",
    "#H.shape == H.T.shape # true\n",
    "print(np.allclose(H,H.dot(H)))\n",
    "H**2 == H # false\n",
    "# 5.\n",
    "w = [7,8,9]\n",
    "w = np.array(w)\n",
    "w = w.T\n",
    "M.dot(w)\n"
   ]
  },
  {
   "cell_type": "markdown",
   "metadata": {
    "collapsed": false
   },
   "source": [
    "#### Question 3\n",
    "\n",
    "Consider the string $S$ defined in the cell below (borrowed from the _New York Times_).  Please process this string in the following ways.  ([This tutorial](https://www.linode.com/docs/development/python/string-manipulation-python-3/) might be helpful.) Please make the result of each part clear and easy to see.\n",
    "\n",
    "1. Convert the string to only lowercase letters (let the result be called $S_1$). (Hint:  there is a built-in string method that does this)\n",
    "1. Remove all non-alphabetical characters from $S_{1}$ except for spaces (let the result be called $S_2$).\n",
    "1. Use the `split()` method on $S_2$ to produce a list $L$ of words occurring in $S$.\n",
    "1. By using the python `set` type, produce a set $W$ of all the unique words occurring in $L$.  What is the ratio of the length of $W$ to the length of $L$?\n",
    "1. Use $W$ to produce a list $WS$ of the words in $W$ occurring in sorted order.\n",
    "1. Create a function `word_vector(WS,L)` that takes $WS$ and $L$ as input and returns a numpy array $N$ of length `len(WS)` such that for each $i$ in `range(len(WS))`, $N[i]$ is equal to the number of times the word $WS[i]$ occurs in $L$.\n",
    "1. Create a function `cos_sim(N,M)` that computes the [cosine similarity](http://blog.christianperone.com/2013/09/machine-learning-cosine-similarity-for-vector-space-models-part-iii/) of two word vectors (two outputs from `word_vector` called $N$ and $M$)."
   ]
  },
  {
   "cell_type": "code",
   "execution_count": 59,
   "metadata": {
    "collapsed": false
   },
   "outputs": [
    {
     "name": "stdout",
     "output_type": "stream",
     "text": [
      "W is 105 and L is 152 \n",
      "0.9999999999999999\n"
     ]
    }
   ],
   "source": [
    "import regex as re\n",
    "import numpy as np\n",
    "\n",
    "#6.\n",
    "def word_vector(WS,L):\n",
    "    N = [0]*len(WS) # create a list of 0 for each N\n",
    "    N = np.array(N)\n",
    "    for i in range(len(WS)):\n",
    "        for k in L:\n",
    "            if WS[i] == k:\n",
    "                N[i] += 1\n",
    "    return N\n",
    "\n",
    "#7.\n",
    "def cos_sim(N,M):\n",
    "    cos = (N.dot(M)) / ((np.sqrt(N.dot(N))) * np.sqrt(M.dot(M)))\n",
    "    # cosine similarty\n",
    "    # dot product of both matrices over the product of the square root of the dot product of their own matrix\n",
    "    print(cos)\n",
    "    \n",
    "S = \"\"\"A deep, brutal cold set in across the Midwest on Wednesday, sending temperatures plummeting to depths that stunned even Midwesterners, a group accustomed to shrugging off winter. The cold that seized the middle of the country was the sort that makes cars moan, that makes breathing hurt, that makes any bit of exposed skin sting.\n",
    "\n",
    "Cities like Chicago had been preparing for the deep freeze for days, so when it arrived, much of life had come to a standstill. Colleges and schools were closed all around, and even the United States Postal Service had stopped deliveries in some places. Workers were sent home, meetings canceled, parties called off.\n",
    "\n",
    "And the worst of the blast was still to come: Forecasters said temperatures would drop again after sunset on Wednesday, and that Chicago might even break its record low of minus 27. The outlook for Thursday was different but still grim: slightly warmer temperatures — and snow.\"\"\"\n",
    "\n",
    "#using regular expression to get rid of punctuation\n",
    "#1.\n",
    "S1 = S.lower()\n",
    "#2.\n",
    "S2 = re.sub(\"\\n\", \" \", S1) # get rid of newline character\n",
    "S2 = re.sub(\"[,.!?:—\\n]\", \"\", S1) # match punctuation, replace with nothing\n",
    "#3.\n",
    "L = S2.split()\n",
    "#4.\n",
    "W = list(set(L))\n",
    "print(\"W is %i and L is %i \" % (len(W), len(L)))\n",
    "#5.\n",
    "WS = W\n",
    "WS.sort()\n",
    "#6\n",
    "N = word_vector(WS,L)\n",
    "#7\n",
    "cos_sim(N,N) # = .9999999999999999999999999"
   ]
  },
  {
   "cell_type": "markdown",
   "metadata": {
    "collapsed": false
   },
   "source": [
   ]
  },
  {
   "cell_type": "markdown",
   "metadata": {
    "collapsed": false
   },
   "source": [
    "#### Question 4\n",
    "\n",
    "1. Use `matplotlib` to make a plot of $y=x^2$.\n",
    "1. Use `matplotlib` to make a plot of a [cycloid](https://en.wikipedia.org/wiki/Cycloid). \n",
    "1. Use `matplotlib` to make a [contour plot](http://snowball.millersville.edu/~adecaria/ESCI386P/esci386-lesson13-2Dplots.pdf) of the equation $z = y\\cdot \\sin(x) - x\\cdot \\sin(y)$."
   ]
  },
  {
   "cell_type": "code",
   "execution_count": 83,
   "metadata": {
    "collapsed": false
   },
   "outputs": [
    {
     "name": "stderr",
     "output_type": "stream",
     "text": [
      "WARNING: Some output was deleted.\n"
     ]
    }
   ],
   "source": [
    "import matplotlib.pyplot as plt\n",
    "import numpy as np\n",
    "#1.\n",
    "x = np.linspace(-10,10,1000)\n",
    "y = x**2\n",
    "\n",
    "plt.plot(x,y)\n",
    "\n",
    "#2. \n",
    "r = 4 # radius\n",
    "t = np.linspace(-10,10,1000)\n",
    "a = r*(t-np.sin(t))\n",
    "b = r*(1 - np.cos(t))\n",
    "\n",
    "plt.plot(a,b)\n",
    "\n",
    "#3.\n",
    "c = np.linspace(-10,10,10)\n",
    "d = np.linspace(-10,10,10)\n",
    "C,D = np.meshgrid(x,y)\n",
    "e = C * np.sin(D) - D * np.sin(C)\n",
    "\n",
    "plt.contour(C,D,e)\n",
    "plt.show()\n"
   ]
  },
  {
   "cell_type": "markdown",
   "metadata": {
    "collapsed": false
   },
   "source": [
    "#### Question 5\n",
    "\n",
    "Do Assessment (2) from the Lecture 1 on the syllabus (reproduced below).  Please produce a scatter plot for 2,2a, and 2b. (Hint: [this](https://en.wikipedia.org/wiki/Unit_square) is what \"unit square\" means. [This](https://docs.scipy.org/doc/numpy/reference/generated/numpy.random.randn.html) may also be helpful.)\n",
    "\n",
    "    2.  Generate 100 points in the unit square, uniformly at random.\n",
    "    2a. Distributed normally (mu = 0.5, sigma=1) on the x axis, but uniformly on the y axis.\n",
    "    2b. Distributed normally (mu = 0.5, sigma=1) on both the x and y axis.\n",
    "    2c. Produce a 2d histogram for this data.  "
   ]
  },
  {
   "cell_type": "code",
   "execution_count": 0,
   "metadata": {
    "collapsed": false
   },
   "outputs": [
   ],
   "source": [
   ]
  },
  {
   "cell_type": "code",
   "execution_count": 101,
   "metadata": {
    "collapsed": false
   },
   "outputs": [
    {
     "name": "stderr",
     "output_type": "stream",
     "text": [
      "WARNING: Some output was deleted.\n"
     ]
    }
   ],
   "source": [
    "import numpy as np\n",
    "import matplotlib.pyplot as plt\n",
    "mu = .5\n",
    "sigma = 1\n",
    "#2.\n",
    "x= np.random.randn(100)\n",
    "y = np.random.randn(100)\n",
    "plt.scatter(x,y)\n",
    "plt.show()\n",
    "plt.hist2d(x, y, bins=(20, 20))\n",
    "plt.show()\n"
   ]
  },
  {
   "cell_type": "code",
   "execution_count": 102,
   "metadata": {
    "collapsed": false
   },
   "outputs": [
    {
     "name": "stderr",
     "output_type": "stream",
     "text": [
      "WARNING: Some output was deleted.\n"
     ]
    }
   ],
   "source": [
    "import numpy as np\n",
    "import matplotlib.pyplot as plt\n",
    "mu = .5\n",
    "sigma = 1\n",
    "#2a\n",
    "x = sigma * np.random.randn(100) + mu\n",
    "y = np.random.randn(100)\n",
    "plt.scatter(x,y)\n",
    "plt.show()\n",
    "plt.hist2d(x, y, bins=(20, 20))\n",
    "plt.show()"
   ]
  },
  {
   "cell_type": "code",
   "execution_count": 105,
   "metadata": {
    "collapsed": false
   },
   "outputs": [
    {
     "name": "stderr",
     "output_type": "stream",
     "text": [
      "WARNING: Some output was deleted.\n"
     ]
    }
   ],
   "source": [
    "import numpy as np\n",
    "import matplotlib.pyplot as plt\n",
    "mu = .5\n",
    "sigma = 1\n",
    "#2b\n",
    "x = sigma * np.random.randn(100) + mu\n",
    "y = sigma * np.random.randn(100) + mu\n",
    "plt.scatter(x,y)\n",
    "plt.show()\n",
    "plt.hist2d(x, y, bins=(20, 20))\n",
    "plt.show()"
   ]
  },
  {
   "cell_type": "code",
   "execution_count": 0,
   "metadata": {
    "collapsed": false
   },
   "outputs": [
   ],
   "source": [
    "\n"
   ]
  }
 ],
 "metadata": {
  "kernelspec": {
   "display_name": "Python 3 (Ubuntu Linux)",
   "language": "python",
   "metadata": {
    "cocalc": {
     "description": "Python 3 programming language",
     "priority": 100,
     "url": "https://www.python.org/"
    }
   },
   "name": "python3"
  },
  "language_info": {
   "codemirror_mode": {
    "name": "ipython",
    "version": 3
   },
   "file_extension": ".py",
   "mimetype": "text/x-python",
   "name": "python",
   "nbconvert_exporter": "python",
   "pygments_lexer": "ipython3",
   "version": "3.6.7"
  }
 },
 "nbformat": 4,
 "nbformat_minor": 0
}
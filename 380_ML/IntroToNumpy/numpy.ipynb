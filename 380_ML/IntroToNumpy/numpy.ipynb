{
 "cells": [
  {
   "cell_type": "markdown",
   "metadata": {
    "collapsed": false
   },
   "source": [
    "## Data\n",
    "\n",
    "In machine learning, statistics and other applications, we need to represent data.  \n",
    "\n",
    "Often we represent data in _vectors_ which are just ordered lists of numbers or words.  \n",
    "\n",
    "For instance if we have data about people, which records their _height (cm)_, _weight (kg)_, and _sex_, data about a particular person might be represented as a vector like this one:\n",
    "\n",
    "```\n",
    "[173.101, 70.5,'M']\n",
    "```\n",
    "This vector says that the person in question is 173.101 cm tall, weighs 70.5 kg, and is a male.  \n",
    "\n",
    "If we have data about several people, then we have many vectors of information.  Typically these are stacked to form a _matrix_.\n",
    "\n",
    "For instance if we have three people, Alice, Bob, and Carol, then their data might together make a 3 by 3 matrix like this one:\n",
    "\n",
    "```\n",
    "[\n",
    "[150.701, 62.5,'F'],\n",
    "[173.101, 70.5,'M'],\n",
    "[140.19, 51.5,'F']\n",
    "]\n",
    "```\n",
    "I have written this as a list of lists.\n"
   ]
  },
  {
   "cell_type": "code",
   "execution_count": 47,
   "metadata": {
    "collapsed": false
   },
   "outputs": [
    {
     "name": "stdout",
     "output_type": "stream",
     "text": [
      "A\n",
      "B\n",
      "C\n",
      "0 A\n",
      "1 B\n",
      "2 C\n"
     ]
    }
   ],
   "source": [
    "# Review of enumeration.....\n",
    "\n",
    "L = list(\"ABC\")\n",
    "L\n",
    "for letter in L:\n",
    "    print(letter)\n",
    "for index,letter in enumerate(L):\n",
    "    print(index,letter)"
   ]
  },
  {
   "cell_type": "code",
   "execution_count": 4,
   "metadata": {
    "collapsed": false
   },
   "outputs": [
    {
     "name": "stdout",
     "output_type": "stream",
     "text": [
      "alice's height is 150.701\n",
      "alice's weight is 62.5\n",
      "alice's sex is F\n",
      "bob's height is 173.101\n",
      "bob's weight is 70.5\n",
      "bob's sex is M\n",
      "carol's height is 140.19\n",
      "carol's weight is 51.5\n",
      "carol's sex is F\n"
     ]
    }
   ],
   "source": [
    "#height #weight #sex\n",
    "data = [\n",
    "[150.701, 62.5,'F'],  #alice\n",
    "[173.101, 70.5,'M'],  #bob\n",
    "[140.19, 51.5,'F']    #carol\n",
    "]\n",
    "\n",
    "data[1][0]\n",
    "data[2][0] #Carol's height\n",
    "data[0][2] #Alice's sex\n",
    "\n",
    "\n",
    "for i,name in enumerate([\"alice\",\"bob\",\"carol\"]):\n",
    "    for j,propertyx in enumerate([\"height\",\"weight\",\"sex\"]):\n",
    "        print(\"{}'s {} is {}\".format(name,propertyx,data[i][j]))"
   ]
  },
  {
   "cell_type": "code",
   "execution_count": 0,
   "metadata": {
    "collapsed": false
   },
   "outputs": [
   ],
   "source": [
   ]
  },
  {
   "cell_type": "markdown",
   "metadata": {
    "collapsed": false
   },
   "source": [
    "## Lists of lists\n",
    "\n",
    "Sometimes lists of lists are called 2-dimensional arrays.  \n",
    "\n",
    "Every element in a 2D array can be specified by its row and column.\n",
    "\n",
    "For instance Bob's sex is in the second row and , third column of the matrix `data`.\n",
    "\n",
    "\n",
    "\n"
   ]
  },
  {
   "cell_type": "code",
   "execution_count": 2,
   "metadata": {
    "collapsed": false
   },
   "outputs": [
    {
     "data": {
      "text/plain": [
       "'M'"
      ]
     },
     "execution_count": 2,
     "metadata": {
     },
     "output_type": "execute_result"
    }
   ],
   "source": [
    "## Accessing Bob's sex\n",
    "\n",
    "data[1][2]"
   ]
  },
  {
   "cell_type": "markdown",
   "metadata": {
    "collapsed": false
   },
   "source": [
    "Notice that we first specify the row `data[1]`.  So `data[1]` is itself a list.  Then we get the third column by accessing the third element of that list:\n",
    "\n",
    "```\n",
    "data[1][2]\n",
    "```\n"
   ]
  },
  {
   "cell_type": "markdown",
   "metadata": {
    "collapsed": false
   },
   "source": [
    "## Numpy arrays\n",
    "\n",
    "Numpy (numerical python) supports $n$-dimensional arrays.\n",
    "\n",
    "They call these `ndarray` [types](https://docs.scipy.org/doc/numpy-1.15.0/reference/generated/numpy.ndarray.html).  \n",
    "\n",
    "We will only use 1-dimensional and 2-dimensional arrays.  \n",
    "\n",
    "Let's first go over some ways to generate 1-dimensional arrays of numbers in numpy.\n",
    "\n",
    "We'll discuss\n",
    "\n",
    "1. conversion from python arrays\n",
    "1. arange\n",
    "1. linspace\n",
    "1. logspace\n",
    "1. zeros\n",
    "1. ones\n",
    "1. random\n"
   ]
  },
  {
   "cell_type": "code",
   "execution_count": 1,
   "metadata": {
    "collapsed": false
   },
   "outputs": [
    {
     "data": {
      "text/plain": [
       "array([1, 2, 3, 4, 5])"
      ]
     },
     "execution_count": 1,
     "metadata": {
     },
     "output_type": "execute_result"
    }
   ],
   "source": [
    "# Conversion from python arrays...\n",
    "\n",
    "import numpy as np\n",
    "\n",
    "L = [1,2,3,4,5]\n",
    "\n",
    "Lnp = np.array(L)\n",
    "\n",
    "Lnp"
   ]
  },
  {
   "cell_type": "code",
   "execution_count": 4,
   "metadata": {
    "collapsed": false
   },
   "outputs": [
    {
     "data": {
      "text/plain": [
       "(array(['1', '2', '3', '4', '5', 'a'], dtype='<U21'), dtype('<U21'))"
      ]
     },
     "execution_count": 4,
     "metadata": {
     },
     "output_type": "execute_result"
    }
   ],
   "source": [
    "# Unlike a python array, in a numpy array all elements are the same type\n",
    "# If any string is included, then everything must be a string\n",
    "\n",
    "L = [1,2,3,4,5,'a']\n",
    "\n",
    "\n",
    "Lnp = np.array(L)\n",
    "\n",
    "Lnp,Lnp.dtype"
   ]
  },
  {
   "cell_type": "code",
   "execution_count": 5,
   "metadata": {
    "collapsed": false
   },
   "outputs": [
    {
     "data": {
      "text/plain": [
       "array([0. , 0.1, 0.2, 0.3, 0.4, 0.5, 0.6, 0.7, 0.8, 0.9])"
      ]
     },
     "execution_count": 5,
     "metadata": {
     },
     "output_type": "execute_result"
    }
   ],
   "source": [
    "# arange\n",
    "\n",
    "# This method gives you an \"interval\" of values.\n",
    "# You specify a start, a stop, and a step\n",
    "\n",
    "np.arange(0,1,0.1)"
   ]
  },
  {
   "cell_type": "code",
   "execution_count": 6,
   "metadata": {
    "collapsed": false
   },
   "outputs": [
    {
     "data": {
      "text/plain": [
       "array([0.        , 0.11111111, 0.22222222, 0.33333333, 0.44444444,\n",
       "       0.55555556, 0.66666667, 0.77777778, 0.88888889, 1.        ])"
      ]
     },
     "execution_count": 6,
     "metadata": {
     },
     "output_type": "execute_result"
    }
   ],
   "source": [
    "# linspace\n",
    "\n",
    "# This is similar to arange, but you give a start, a stop, and the _number_ of points.\n",
    "\n",
    "np.linspace(0,1,10)"
   ]
  },
  {
   "cell_type": "code",
   "execution_count": 16,
   "metadata": {
    "collapsed": false
   },
   "outputs": [
    {
     "data": {
      "text/plain": [
       "array([1.00000000e+01, 2.78255940e+01, 7.74263683e+01, 2.15443469e+02,\n",
       "       5.99484250e+02, 1.66810054e+03, 4.64158883e+03, 1.29154967e+04,\n",
       "       3.59381366e+04, 1.00000000e+05])"
      ]
     },
     "execution_count": 16,
     "metadata": {
     },
     "output_type": "execute_result"
    }
   ],
   "source": [
    "# logspace\n",
    "\n",
    "# Similar to linspace, but now the points are separated by geometrically increasing amounts.\n",
    "# There is an implicit base b (10 by default)\n",
    "# It starts at b**start and stops at b**stop\n",
    "\n",
    "np.logspace(1,5,num=10)"
   ]
  },
  {
   "cell_type": "code",
   "execution_count": 37,
   "metadata": {
    "collapsed": false
   },
   "outputs": [
    {
     "data": {
      "text/plain": [
       "array([0., 0., 0., 0., 0., 0., 0., 0., 0., 0.])"
      ]
     },
     "execution_count": 37,
     "metadata": {
     },
     "output_type": "execute_result"
    }
   ],
   "source": [
    "# zeros\n",
    "\n",
    "# Often you just want an array of zeros.\n",
    "\n",
    "np.zeros(10)"
   ]
  },
  {
   "cell_type": "code",
   "execution_count": 38,
   "metadata": {
    "collapsed": false
   },
   "outputs": [
    {
     "data": {
      "text/plain": [
       "array([1., 1., 1., 1., 1., 1., 1., 1., 1., 1.])"
      ]
     },
     "execution_count": 38,
     "metadata": {
     },
     "output_type": "execute_result"
    }
   ],
   "source": [
    "\n",
    "# Or an array of ones\n",
    "\n",
    "np.ones(10)"
   ]
  },
  {
   "cell_type": "code",
   "execution_count": 43,
   "metadata": {
    "collapsed": false
   },
   "outputs": [
    {
     "data": {
      "text/plain": [
       "array([ 1.07942322,  0.3080182 ,  1.39840618,  1.4107934 ,  0.48400112,\n",
       "       -0.70532046, -1.22057276,  0.26371531, -0.60847375,  2.35205058])"
      ]
     },
     "execution_count": 43,
     "metadata": {
     },
     "output_type": "execute_result"
    }
   ],
   "source": [
    "\n",
    "#  Here are 10 values sampled from a standard normal distribution\n",
    "\n",
    "np.random.randn(10)"
   ]
  },
  {
   "cell_type": "code",
   "execution_count": 49,
   "metadata": {
    "collapsed": false
   },
   "outputs": [
    {
     "data": {
      "text/plain": [
       "array([9, 8, 1, 8, 6])"
      ]
     },
     "execution_count": 49,
     "metadata": {
     },
     "output_type": "execute_result"
    }
   ],
   "source": [
    "#  Here are 5 integers sampled uniformly at random between 0 and 10\n",
    "\n",
    "np.random.randint(0,10,5)"
   ]
  },
  {
   "cell_type": "markdown",
   "metadata": {
    "collapsed": false
   },
   "source": [
    "### Numpy 2-D arrays\n",
    "\n",
    "The way to create a 2-D array in numpy is usually to reshape a 1-D array. \n",
    "\n",
    "Below are examples of using the reshape command.\n"
   ]
  },
  {
   "cell_type": "code",
   "execution_count": 35,
   "metadata": {
    "collapsed": false
   },
   "outputs": [
    {
     "data": {
      "text/plain": [
       "array([0.        , 0.06666667, 0.13333333, 0.2       , 0.26666667,\n",
       "       0.33333333, 0.4       , 0.46666667, 0.53333333, 0.6       ,\n",
       "       0.66666667, 0.73333333, 0.8       , 0.86666667, 0.93333333,\n",
       "       1.        ])"
      ]
     },
     "execution_count": 35,
     "metadata": {
     },
     "output_type": "execute_result"
    }
   ],
   "source": [
    "A = np.linspace(0,1,16)\n",
    "A"
   ]
  },
  {
   "cell_type": "code",
   "execution_count": 36,
   "metadata": {
    "collapsed": false
   },
   "outputs": [
    {
     "data": {
      "text/plain": [
       "array([[0.        , 0.06666667, 0.13333333, 0.2       ],\n",
       "       [0.26666667, 0.33333333, 0.4       , 0.46666667],\n",
       "       [0.53333333, 0.6       , 0.66666667, 0.73333333],\n",
       "       [0.8       , 0.86666667, 0.93333333, 1.        ]])"
      ]
     },
     "execution_count": 36,
     "metadata": {
     },
     "output_type": "execute_result"
    }
   ],
   "source": [
    "A.reshape(4,4)"
   ]
  },
  {
   "cell_type": "code",
   "execution_count": 39,
   "metadata": {
    "collapsed": false
   },
   "outputs": [
    {
     "data": {
      "text/plain": [
       "array([[0.        , 0.06666667, 0.13333333, 0.2       , 0.26666667,\n",
       "        0.33333333, 0.4       , 0.46666667],\n",
       "       [0.53333333, 0.6       , 0.66666667, 0.73333333, 0.8       ,\n",
       "        0.86666667, 0.93333333, 1.        ]])"
      ]
     },
     "execution_count": 39,
     "metadata": {
     },
     "output_type": "execute_result"
    }
   ],
   "source": [
    "A.reshape(2,8)"
   ]
  },
  {
   "cell_type": "code",
   "execution_count": 40,
   "metadata": {
    "collapsed": false
   },
   "outputs": [
    {
     "data": {
      "text/plain": [
       "array([[0.        , 0.06666667],\n",
       "       [0.13333333, 0.2       ],\n",
       "       [0.26666667, 0.33333333],\n",
       "       [0.4       , 0.46666667],\n",
       "       [0.53333333, 0.6       ],\n",
       "       [0.66666667, 0.73333333],\n",
       "       [0.8       , 0.86666667],\n",
       "       [0.93333333, 1.        ]])"
      ]
     },
     "execution_count": 40,
     "metadata": {
     },
     "output_type": "execute_result"
    }
   ],
   "source": [
    "A.reshape(8,2)"
   ]
  },
  {
   "cell_type": "markdown",
   "metadata": {
    "collapsed": false
   },
   "source": [
   ]
  },
  {
   "cell_type": "markdown",
   "metadata": {
    "collapsed": false
   },
   "source": [
    "#### Linear algebra operations\n",
    "\n",
    "Often we want to do matrix arithmetic on numpy arrays.  \n",
    "By default when you \"multiply\" numpy arrays you don't get the matrix product, you get respective elements multiplied together.\n",
    "\n"
   ]
  },
  {
   "cell_type": "code",
   "execution_count": 2,
   "metadata": {
    "collapsed": false
   },
   "outputs": [
    {
     "data": {
      "text/plain": [
       "array([[6, 6, 7],\n",
       "       [0, 6, 3],\n",
       "       [5, 2, 2]])"
      ]
     },
     "execution_count": 2,
     "metadata": {
     },
     "output_type": "execute_result"
    }
   ],
   "source": [
    "import numpy as np\n",
    "\n",
    "A = np.random.randint(0,10,9).reshape(3,3)\n",
    "B = np.random.randint(0,10,9).reshape(3,3)\n",
    "A"
   ]
  },
  {
   "cell_type": "code",
   "execution_count": 55,
   "metadata": {
    "collapsed": false
   },
   "outputs": [
    {
     "data": {
      "text/plain": [
       "array([[6, 1, 7],\n",
       "       [2, 3, 2],\n",
       "       [2, 0, 9]])"
      ]
     },
     "execution_count": 55,
     "metadata": {
     },
     "output_type": "execute_result"
    }
   ],
   "source": [
    "B"
   ]
  },
  {
   "cell_type": "code",
   "execution_count": 56,
   "metadata": {
    "collapsed": false
   },
   "outputs": [
    {
     "data": {
      "text/plain": [
       "array([[42,  1, 49],\n",
       "       [ 0, 27, 18],\n",
       "       [ 8,  0, 18]])"
      ]
     },
     "execution_count": 56,
     "metadata": {
     },
     "output_type": "execute_result"
    }
   ],
   "source": [
    "A*B"
   ]
  },
  {
   "cell_type": "markdown",
   "metadata": {
    "collapsed": false
   },
   "source": [
    "### Matrix product\n",
    "\n",
    "If you want to get the matrix product then you have two options.\n",
    "\n",
    "One is to conver to the numpy \"matrix\" type.\n"
   ]
  },
  {
   "cell_type": "code",
   "execution_count": 57,
   "metadata": {
    "collapsed": false
   },
   "outputs": [
    {
     "data": {
      "text/plain": [
       "matrix([[ 58,  10, 114],\n",
       "        [ 36,  27,  99],\n",
       "        [ 28,   4,  46]])"
      ]
     },
     "execution_count": 57,
     "metadata": {
     },
     "output_type": "execute_result"
    }
   ],
   "source": [
    "Am = np.matrix(A)\n",
    "Bm = np.matrix(B)\n",
    "Am*Bm"
   ]
  },
  {
   "cell_type": "markdown",
   "metadata": {
    "collapsed": false
   },
   "source": [
    "Another method is to use the \"dot\" method.\n",
    "\n",
    "This is uglier, but I recommend it, because slices of \"matrix\" types can be weird (see \"slicing\" below).\n"
   ]
  },
  {
   "cell_type": "code",
   "execution_count": 58,
   "metadata": {
    "collapsed": false
   },
   "outputs": [
    {
     "data": {
      "text/plain": [
       "array([[ 58,  10, 114],\n",
       "       [ 36,  27,  99],\n",
       "       [ 28,   4,  46]])"
      ]
     },
     "execution_count": 58,
     "metadata": {
     },
     "output_type": "execute_result"
    }
   ],
   "source": [
    "A.dot(B)"
   ]
  },
  {
   "cell_type": "markdown",
   "metadata": {
    "collapsed": false
   },
   "source": [
    "#### Other matrix operations\n",
    "\n",
    "Often we want the inverse, the transpose, or the \"pseudo-inverse\".\n",
    "\n",
    "Here is how to get each of these.\n"
   ]
  },
  {
   "cell_type": "code",
   "execution_count": 62,
   "metadata": {
    "collapsed": false
   },
   "outputs": [
    {
     "data": {
      "text/plain": [
       "array([[-0.2       ,  0.02222222,  0.6       ],\n",
       "       [-0.4       ,  0.15555556,  0.7       ],\n",
       "       [ 0.4       , -0.04444444, -0.7       ]])"
      ]
     },
     "execution_count": 62,
     "metadata": {
     },
     "output_type": "execute_result"
    }
   ],
   "source": [
    "#The inverse \n",
    "\n",
    "np.linalg.inv(A)\n"
   ]
  },
  {
   "cell_type": "code",
   "execution_count": 63,
   "metadata": {
    "collapsed": false
   },
   "outputs": [
    {
     "data": {
      "text/plain": [
       "array([[ 1.00000000e+00, -2.08166817e-17, -3.33066907e-16],\n",
       "       [ 0.00000000e+00,  1.00000000e+00,  3.33066907e-16],\n",
       "       [ 2.22044605e-16, -2.77555756e-17,  1.00000000e+00]])"
      ]
     },
     "execution_count": 63,
     "metadata": {
     },
     "output_type": "execute_result"
    }
   ],
   "source": [
    "# Everything is numerical, so it can be a little sloppy.\n",
    "# Here's A*A^(-1)\n",
    "A.dot(np.linalg.inv(A))"
   ]
  },
  {
   "cell_type": "code",
   "execution_count": 64,
   "metadata": {
    "collapsed": false
   },
   "outputs": [
    {
     "data": {
      "text/plain": [
       "array([[7, 0, 4],\n",
       "       [1, 9, 0],\n",
       "       [7, 9, 2]])"
      ]
     },
     "execution_count": 64,
     "metadata": {
     },
     "output_type": "execute_result"
    }
   ],
   "source": [
    "# The transpose\n",
    "\n",
    "A.T"
   ]
  },
  {
   "cell_type": "code",
   "execution_count": 65,
   "metadata": {
    "collapsed": false
   },
   "outputs": [
    {
     "data": {
      "text/plain": [
       "array([[-0.2       ,  0.02222222,  0.6       ],\n",
       "       [-0.4       ,  0.15555556,  0.7       ],\n",
       "       [ 0.4       , -0.04444444, -0.7       ]])"
      ]
     },
     "execution_count": 65,
     "metadata": {
     },
     "output_type": "execute_result"
    }
   ],
   "source": [
    "#  The pseudo-inverse\n",
    "#  (we'll explain this later)\n",
    "# For a square matrix, the pseudo-inverse is just the inverse\n",
    "\n",
    "np.linalg.pinv(A)"
   ]
  },
  {
   "cell_type": "code",
   "execution_count": 66,
   "metadata": {
    "collapsed": false
   },
   "outputs": [
    {
     "data": {
      "text/plain": [
       "array([[-1.67395215, -0.75074329],\n",
       "       [-1.61175077,  2.33154874],\n",
       "       [-1.99531934,  2.06477457],\n",
       "       [-0.16325107,  2.59638869],\n",
       "       [ 0.19130273,  1.42616082],\n",
       "       [-1.11099185,  0.19262457],\n",
       "       [ 0.05995189,  0.48841386],\n",
       "       [-0.89279144, -0.76279689]])"
      ]
     },
     "execution_count": 66,
     "metadata": {
     },
     "output_type": "execute_result"
    }
   ],
   "source": [
    "#  But for rectangular matrices the pseudo-inverse is also defined (where the regular inverse is not)\n",
    "\n",
    "C = np.random.randn(16).reshape(8,2)\n",
    "C"
   ]
  },
  {
   "cell_type": "code",
   "execution_count": 67,
   "metadata": {
    "collapsed": false
   },
   "outputs": [
    {
     "data": {
      "text/plain": [
       "array([[-0.20113761, -0.09224429, -0.14147895,  0.0690268 ,  0.06749242,\n",
       "        -0.11055328,  0.02252836, -0.11930847],\n",
       "       [-0.10117965,  0.0880915 ,  0.05915257,  0.15227336,  0.09297126,\n",
       "        -0.02519059,  0.03165492, -0.07597376]])"
      ]
     },
     "execution_count": 67,
     "metadata": {
     },
     "output_type": "execute_result"
    }
   ],
   "source": [
    "np.linalg.pinv(C)"
   ]
  },
  {
   "cell_type": "markdown",
   "metadata": {
    "collapsed": false
   },
   "source": [
    "## Slicing\n",
    "\n",
    "Now we practice doing 2D array slicing.\n",
    "\n",
    "You may want to review 1D array slicing if you're still not sure how that works.\n",
    "\n",
    "https://stackoverflow.com/questions/509211/understanding-pythons-slice-notation\n",
    "\n",
    "The basic form of a 2D slice is \n",
    "\n",
    "```\n",
    "A[<slice of rows>,<slice of columns>]\n",
    "```\n",
    "\n",
    "Here are some examples.\n"
   ]
  },
  {
   "cell_type": "code",
   "execution_count": 5,
   "metadata": {
    "collapsed": false
   },
   "outputs": [
    {
     "data": {
      "text/plain": [
       "array([['150.701', '62.5', 'F'],\n",
       "       ['173.101', '70.5', 'M'],\n",
       "       ['140.19', '51.5', 'F']], dtype='<U32')"
      ]
     },
     "execution_count": 5,
     "metadata": {
     },
     "output_type": "execute_result"
    }
   ],
   "source": [
    "import numpy as np\n",
    "A = np.array(data)\n",
    "A"
   ]
  },
  {
   "cell_type": "code",
   "execution_count": 6,
   "metadata": {
    "collapsed": false
   },
   "outputs": [
    {
     "data": {
      "text/plain": [
       "array(['F', 'M', 'F'], dtype='<U32')"
      ]
     },
     "execution_count": 6,
     "metadata": {
     },
     "output_type": "execute_result"
    }
   ],
   "source": [
    "# Numpy arrays can be sliced multidimensionally, similarly to the way 1D Python\n",
    "\n",
    "# All rows, third column\n",
    "A[:,2]"
   ]
  },
  {
   "cell_type": "code",
   "execution_count": 7,
   "metadata": {
    "collapsed": false
   },
   "outputs": [
    {
     "data": {
      "text/plain": [
       "array([['150.701', '62.5', 'F'],\n",
       "       ['173.101', '70.5', 'M'],\n",
       "       ['140.19', '51.5', 'F']], dtype='<U32')"
      ]
     },
     "execution_count": 7,
     "metadata": {
     },
     "output_type": "execute_result"
    }
   ],
   "source": [
    "# All rows, all columns\n",
    "\n",
    "A[:,:]"
   ]
  },
  {
   "cell_type": "code",
   "execution_count": 8,
   "metadata": {
    "collapsed": false
   },
   "outputs": [
    {
     "data": {
      "text/plain": [
       "array(['173.101', '70.5', 'M'], dtype='<U32')"
      ]
     },
     "execution_count": 8,
     "metadata": {
     },
     "output_type": "execute_result"
    }
   ],
   "source": [
    "# Second row, all columns\n",
    "A[1,:]"
   ]
  },
  {
   "cell_type": "code",
   "execution_count": 11,
   "metadata": {
    "collapsed": false
   },
   "outputs": [
    {
     "data": {
      "text/plain": [
       "array(['173.101', '70.5'], dtype='<U32')"
      ]
     },
     "execution_count": 11,
     "metadata": {
     },
     "output_type": "execute_result"
    }
   ],
   "source": [
    "# Second row, columns 0,1\n",
    "A[1,0:2]"
   ]
  },
  {
   "cell_type": "code",
   "execution_count": 14,
   "metadata": {
    "collapsed": false
   },
   "outputs": [
    {
     "data": {
      "text/plain": [
       "array([['62.5', 'F'],\n",
       "       ['70.5', 'M']], dtype='<U32')"
      ]
     },
     "execution_count": 14,
     "metadata": {
     },
     "output_type": "execute_result"
    }
   ],
   "source": [
    "#Exercise:\n",
    "\n",
    "#  What is this?\n",
    "\n",
    "A[0:2,1:]"
   ]
  },
  {
   "cell_type": "code",
   "execution_count": 12,
   "metadata": {
    "collapsed": false
   },
   "outputs": [
    {
     "data": {
      "text/plain": [
       "array([['150.701', '62.5', 'F'],\n",
       "       ['173.101', '70.5', 'M'],\n",
       "       ['140.19', '51.5', 'F']], dtype='<U32')"
      ]
     },
     "execution_count": 12,
     "metadata": {
     },
     "output_type": "execute_result"
    }
   ],
   "source": [
    "A"
   ]
  },
  {
   "cell_type": "code",
   "execution_count": 38,
   "metadata": {
    "collapsed": false
   },
   "outputs": [
    {
     "name": "stdout",
     "output_type": "stream",
     "text": [
      "['F' 'M' 'F']\n"
     ]
    },
    {
     "data": {
      "text/plain": [
       "array([['150.701', '62.5', 'F'],\n",
       "       ['140.19', '51.5', 'F']], dtype='<U32')"
      ]
     },
     "execution_count": 38,
     "metadata": {
     },
     "output_type": "execute_result"
    }
   ],
   "source": [
    "sex_col = A[:,-1]\n",
    "print(sex_col)\n",
    "A[sex_col == 'F',:]"
   ]
  },
  {
   "cell_type": "code",
   "execution_count": 18,
   "metadata": {
    "collapsed": false
   },
   "outputs": [
    {
     "data": {
      "text/plain": [
       "array([[ 7,  8],\n",
       "       [11, 12]])"
      ]
     },
     "execution_count": 18,
     "metadata": {
     },
     "output_type": "execute_result"
    }
   ],
   "source": [
    "A = np.arange(1,17).reshape(4,4)\n",
    "X = A[:,1].reshape(4,1)\n",
    "X\n",
    "Y = A[1:3,2:]\n",
    "Y"
   ]
  },
  {
   "cell_type": "code",
   "execution_count": 73,
   "metadata": {
    "collapsed": false
   },
   "outputs": [
   ],
   "source": [
    "#Exercise:\n",
    "\n",
    "#A = np.array(data)\n",
    "\n",
    "\n",
    "## Slice out these:\n",
    "\n",
    "# 1)  The 3rd column\n",
    "\n",
    "# 2)  The last row\n",
    "# 3)  The last 2 columns\n"
   ]
  },
  {
   "cell_type": "markdown",
   "metadata": {
    "collapsed": false
   },
   "source": [
    "## The shape of an array\n",
    "\n",
    "Here we look at how to make matrices out of 1D arrays, and to \"flatten\" 2D arrays into 1D arrays.\n"
   ]
  },
  {
   "cell_type": "code",
   "execution_count": 71,
   "metadata": {
    "collapsed": false
   },
   "outputs": [
    {
     "data": {
      "text/plain": [
       "array([[ 0.82231058,  0.97975016,  0.42898614,  1.07242233, -1.00640184],\n",
       "       [-1.04577882, -0.38708494,  1.97851304, -1.28083628,  1.48228689],\n",
       "       [ 0.37813029,  0.30997016, -0.50344834,  1.83635373,  0.68876621],\n",
       "       [-0.12174403,  1.46998238, -0.4915397 ,  1.12176541, -0.76528718],\n",
       "       [-1.30419748,  1.19987133,  2.14436563,  1.17276708, -0.11806334]])"
      ]
     },
     "execution_count": 71,
     "metadata": {
     },
     "output_type": "execute_result"
    }
   ],
   "source": [
    "B = np.random.randn(25).reshape(5,5)\n",
    "B"
   ]
  },
  {
   "cell_type": "code",
   "execution_count": 72,
   "metadata": {
    "collapsed": false
   },
   "outputs": [
    {
     "data": {
      "text/plain": [
       "array([ 0.82231058,  0.97975016,  0.42898614,  1.07242233, -1.00640184,\n",
       "       -1.04577882, -0.38708494,  1.97851304, -1.28083628,  1.48228689,\n",
       "        0.37813029,  0.30997016, -0.50344834,  1.83635373,  0.68876621,\n",
       "       -0.12174403,  1.46998238, -0.4915397 ,  1.12176541, -0.76528718,\n",
       "       -1.30419748,  1.19987133,  2.14436563,  1.17276708, -0.11806334])"
      ]
     },
     "execution_count": 72,
     "metadata": {
     },
     "output_type": "execute_result"
    }
   ],
   "source": [
    "B.flatten()"
   ]
  },
  {
   "cell_type": "code",
   "execution_count": 78,
   "metadata": {
    "collapsed": false
   },
   "outputs": [
    {
     "data": {
      "text/plain": [
       "array([[0., 0., 0., 0., 0.],\n",
       "       [0., 0., 0., 0., 0.]])"
      ]
     },
     "execution_count": 78,
     "metadata": {
     },
     "output_type": "execute_result"
    }
   ],
   "source": [
    "np.zeros(10).reshape(2,5)"
   ]
  },
  {
   "cell_type": "code",
   "execution_count": 79,
   "metadata": {
    "collapsed": false
   },
   "outputs": [
    {
     "data": {
      "text/plain": [
       "array([[1., 0., 0., 0., 0.],\n",
       "       [0., 1., 0., 0., 0.],\n",
       "       [0., 0., 1., 0., 0.],\n",
       "       [0., 0., 0., 1., 0.],\n",
       "       [0., 0., 0., 0., 1.]])"
      ]
     },
     "execution_count": 79,
     "metadata": {
     },
     "output_type": "execute_result"
    }
   ],
   "source": [
    "np.eye(5)  # The multiplicative identity"
   ]
  },
  {
   "cell_type": "code",
   "execution_count": 99,
   "metadata": {
    "collapsed": false
   },
   "outputs": [
    {
     "data": {
      "text/plain": [
       "array([ 0,  1,  2,  3,  4,  5,  6,  7,  8,  9, 10, 11])"
      ]
     },
     "execution_count": 99,
     "metadata": {
     },
     "output_type": "execute_result"
    }
   ],
   "source": [
    "A = np.array( range(12))\n",
    "A\n"
   ]
  },
  {
   "cell_type": "code",
   "execution_count": 85,
   "metadata": {
    "collapsed": false
   },
   "outputs": [
    {
     "data": {
      "text/plain": [
       "(12,)"
      ]
     },
     "execution_count": 85,
     "metadata": {
     },
     "output_type": "execute_result"
    }
   ],
   "source": [
    "A.shape"
   ]
  },
  {
   "cell_type": "code",
   "execution_count": 86,
   "metadata": {
    "collapsed": false
   },
   "outputs": [
    {
     "data": {
      "text/plain": [
       "array([[ 0,  1,  2,  3],\n",
       "       [ 4,  5,  6,  7],\n",
       "       [ 8,  9, 10, 11]])"
      ]
     },
     "execution_count": 86,
     "metadata": {
     },
     "output_type": "execute_result"
    }
   ],
   "source": [
    "A = A.reshape(3,4)\n",
    "A"
   ]
  },
  {
   "cell_type": "code",
   "execution_count": 87,
   "metadata": {
    "collapsed": false
   },
   "outputs": [
    {
     "data": {
      "text/plain": [
       "(3, 4)"
      ]
     },
     "execution_count": 87,
     "metadata": {
     },
     "output_type": "execute_result"
    }
   ],
   "source": [
    "A.shape"
   ]
  },
  {
   "cell_type": "code",
   "execution_count": 88,
   "metadata": {
    "collapsed": false
   },
   "outputs": [
    {
     "data": {
      "text/plain": [
       "array([[ 0,  1],\n",
       "       [ 2,  3],\n",
       "       [ 4,  5],\n",
       "       [ 6,  7],\n",
       "       [ 8,  9],\n",
       "       [10, 11]])"
      ]
     },
     "execution_count": 88,
     "metadata": {
     },
     "output_type": "execute_result"
    }
   ],
   "source": [
    "A.reshape(6,2)"
   ]
  },
  {
   "cell_type": "code",
   "execution_count": 89,
   "metadata": {
    "collapsed": false
   },
   "outputs": [
    {
     "data": {
      "text/plain": [
       "array([[ 0,  1,  2],\n",
       "       [ 3,  4,  5],\n",
       "       [ 6,  7,  8],\n",
       "       [ 9, 10, 11]])"
      ]
     },
     "execution_count": 89,
     "metadata": {
     },
     "output_type": "execute_result"
    }
   ],
   "source": [
    "A.reshape(4,3)"
   ]
  },
  {
   "cell_type": "code",
   "execution_count": 100,
   "metadata": {
    "collapsed": false
   },
   "outputs": [
    {
     "data": {
      "text/plain": [
       "array([[ 0,  3,  6,  9],\n",
       "       [ 1,  4,  7, 10],\n",
       "       [ 2,  5,  8, 11]])"
      ]
     },
     "execution_count": 100,
     "metadata": {
     },
     "output_type": "execute_result"
    }
   ],
   "source": [
    "A = np.array( range(12))\n",
    "C = A.reshape(4,3).T\n",
    "C"
   ]
  },
  {
   "cell_type": "code",
   "execution_count": 0,
   "metadata": {
    "collapsed": false
   },
   "outputs": [
   ],
   "source": [
    "\n"
   ]
  },
  {
   "cell_type": "code",
   "execution_count": 0,
   "metadata": {
    "collapsed": false
   },
   "outputs": [
   ],
   "source": [
   ]
  },
  {
   "cell_type": "code",
   "execution_count": 0,
   "metadata": {
    "collapsed": false
   },
   "outputs": [
   ],
   "source": [
   ]
  },
  {
   "cell_type": "code",
   "execution_count": 74,
   "metadata": {
    "collapsed": false
   },
   "outputs": [
   ],
   "source": [
    "#Exercise:\n",
    "\n",
    "#  Create a 2D numpy array of dimensions 4x7\n"
   ]
  },
  {
   "cell_type": "markdown",
   "metadata": {
    "collapsed": false
   },
   "source": [
    "## Vectorization\n",
    "\n",
    "Operations on numpy arrays are _vectorized_.  That means that most operations happen to all the elements at once.  \n",
    "Here are some examples.\n",
    "\n"
   ]
  },
  {
   "cell_type": "code",
   "execution_count": 75,
   "metadata": {
    "collapsed": false
   },
   "outputs": [
    {
     "data": {
      "text/plain": [
       "array([ 0,  1,  2,  3,  4,  5,  6,  7,  8,  9, 10])"
      ]
     },
     "execution_count": 75,
     "metadata": {
     },
     "output_type": "execute_result"
    }
   ],
   "source": [
    "A = np.array(range(11))\n",
    "A"
   ]
  },
  {
   "cell_type": "code",
   "execution_count": 76,
   "metadata": {
    "collapsed": false
   },
   "outputs": [
    {
     "data": {
      "text/plain": [
       "array([ 1,  2,  3,  4,  5,  6,  7,  8,  9, 10, 11])"
      ]
     },
     "execution_count": 76,
     "metadata": {
     },
     "output_type": "execute_result"
    }
   ],
   "source": [
    "A + 1 # + operator is overloaded to add 1 to each entry"
   ]
  },
  {
   "cell_type": "code",
   "execution_count": 77,
   "metadata": {
    "collapsed": false
   },
   "outputs": [
    {
     "data": {
      "text/plain": [
       "array([0. , 0.5, 1. , 1.5, 2. , 2.5, 3. , 3.5, 4. , 4.5, 5. ])"
      ]
     },
     "execution_count": 77,
     "metadata": {
     },
     "output_type": "execute_result"
    }
   ],
   "source": [
    "A*1/2 # so is the multiplication operator"
   ]
  },
  {
   "cell_type": "code",
   "execution_count": 78,
   "metadata": {
    "collapsed": false
   },
   "outputs": [
    {
     "data": {
      "text/plain": [
       "array([False, False, False, False, False,  True,  True,  True,  True,\n",
       "        True,  True])"
      ]
     },
     "execution_count": 78,
     "metadata": {
     },
     "output_type": "execute_result"
    }
   ],
   "source": [
    "A > 4 # so is > operator"
   ]
  },
  {
   "cell_type": "code",
   "execution_count": 79,
   "metadata": {
    "collapsed": false
   },
   "outputs": [
    {
     "data": {
      "text/plain": [
       "array([ -10.        ,  -22.        ,  -56.58578644, -107.26794919,\n",
       "       -168.        , -232.76393202, -295.55051026, -350.35424869,\n",
       "       -391.17157288, -412.        , -406.83772234])"
      ]
     },
     "execution_count": 79,
     "metadata": {
     },
     "output_type": "execute_result"
    }
   ],
   "source": [
    "A**3 - 14*A**2+np.sqrt(A)-10"
   ]
  },
  {
   "cell_type": "code",
   "execution_count": 47,
   "metadata": {
    "collapsed": false
   },
   "outputs": [
    {
     "data": {
      "text/plain": [
       "array([1., 1., 1., 1., 1., 1., 1., 1., 1., 1., 1.])"
      ]
     },
     "execution_count": 47,
     "metadata": {
     },
     "output_type": "execute_result"
    }
   ],
   "source": [
    "B = np.ones(len(A))\n",
    "B"
   ]
  },
  {
   "cell_type": "code",
   "execution_count": 48,
   "metadata": {
    "collapsed": false
   },
   "outputs": [
    {
     "data": {
      "text/plain": [
       "array([ 1.,  2.,  3.,  4.,  5.,  6.,  7.,  8.,  9., 10., 11.])"
      ]
     },
     "execution_count": 48,
     "metadata": {
     },
     "output_type": "execute_result"
    }
   ],
   "source": [
    "B+A"
   ]
  },
  {
   "cell_type": "code",
   "execution_count": 50,
   "metadata": {
    "collapsed": false
   },
   "outputs": [
    {
     "data": {
      "text/plain": [
       "True"
      ]
     },
     "execution_count": 50,
     "metadata": {
     },
     "output_type": "execute_result"
    }
   ],
   "source": [
    "# This is the dot product, from linear algebra.\n",
    "\n",
    "B.dot(A) == sum(B*A)"
   ]
  },
  {
   "cell_type": "code",
   "execution_count": 39,
   "metadata": {
    "collapsed": false
   },
   "outputs": [
    {
     "data": {
      "text/plain": [
       "array([ 0,  9, 16, 21, 24, 25, 24, 21, 16,  9,  0])"
      ]
     },
     "execution_count": 39,
     "metadata": {
     },
     "output_type": "execute_result"
    }
   ],
   "source": [
    "# This is item-wise multiplication\n",
    "\n",
    "B*A"
   ]
  },
  {
   "cell_type": "code",
   "execution_count": 81,
   "metadata": {
    "collapsed": false
   },
   "outputs": [
    {
     "data": {
      "text/plain": [
       "array([ 1.        ,  1.38177329,  0.49315059, -0.84887249, -1.41044612,\n",
       "       -0.67526209,  0.68075479,  1.41088885,  0.84385821, -0.49901178,\n",
       "       -1.38309264])"
      ]
     },
     "execution_count": 81,
     "metadata": {
     },
     "output_type": "execute_result"
    }
   ],
   "source": [
    "# Numpy has some built-in vectorized functions like sine, cosine, exp, log, etc.\n",
    "\n",
    "np.sin(A) + np.cos(A)\n"
   ]
  },
  {
   "cell_type": "code",
   "execution_count": 0,
   "metadata": {
    "collapsed": false
   },
   "outputs": [
   ],
   "source": [
   ]
  },
  {
   "cell_type": "code",
   "execution_count": 41,
   "metadata": {
    "collapsed": false
   },
   "outputs": [
    {
     "data": {
      "text/plain": [
       "array([1.00000000e+00, 2.71828183e+00, 7.38905610e+00, 2.00855369e+01,\n",
       "       5.45981500e+01, 1.48413159e+02, 4.03428793e+02, 1.09663316e+03,\n",
       "       2.98095799e+03, 8.10308393e+03, 2.20264658e+04])"
      ]
     },
     "execution_count": 41,
     "metadata": {
     },
     "output_type": "execute_result"
    }
   ],
   "source": [
    "np.exp(A)"
   ]
  },
  {
   "cell_type": "code",
   "execution_count": 59,
   "metadata": {
    "collapsed": false
   },
   "outputs": [
    {
     "data": {
      "text/plain": [
       "array([0.        , 0.02898551, 0.05797101, 0.08695652, 0.11594203,\n",
       "       0.14492754, 0.17391304, 0.20289855, 0.23188406, 0.26086957,\n",
       "       0.28985507, 0.31884058, 0.34782609, 0.37681159, 0.4057971 ,\n",
       "       0.43478261, 0.46376812, 0.49275362, 0.52173913, 0.55072464,\n",
       "       0.57971014, 0.60869565, 0.63768116, 0.66666667, 0.69565217,\n",
       "       0.72463768, 0.75362319, 0.7826087 , 0.8115942 , 0.84057971,\n",
       "       0.86956522, 0.89855072, 0.92753623, 0.95652174, 0.98550725,\n",
       "       1.01449275, 1.04347826, 1.07246377, 1.10144928, 1.13043478,\n",
       "       1.15942029, 1.1884058 , 1.2173913 , 1.24637681, 1.27536232,\n",
       "       1.30434783, 1.33333333, 1.36231884, 1.39130435, 1.42028986,\n",
       "       1.44927536, 1.47826087, 1.50724638, 1.53623188, 1.56521739,\n",
       "       1.5942029 , 1.62318841, 1.65217391, 1.68115942, 1.71014493,\n",
       "       1.73913043, 1.76811594, 1.79710145, 1.82608696, 1.85507246,\n",
       "       1.88405797, 1.91304348, 1.94202899, 1.97101449, 2.        ])"
      ]
     },
     "execution_count": 59,
     "metadata": {
     },
     "output_type": "execute_result"
    }
   ],
   "source": [
    "number_of_numbers = 70\n",
    "np.linspace(start,stop,number_of_numbers)"
   ]
  },
  {
   "cell_type": "code",
   "execution_count": 57,
   "metadata": {
    "collapsed": false
   },
   "outputs": [
    {
     "data": {
      "text/plain": [
       "array([0.  , 0.01, 0.02, 0.03, 0.04, 0.05, 0.06, 0.07, 0.08, 0.09, 0.1 ,\n",
       "       0.11, 0.12, 0.13, 0.14, 0.15, 0.16, 0.17, 0.18, 0.19, 0.2 , 0.21,\n",
       "       0.22, 0.23, 0.24, 0.25, 0.26, 0.27, 0.28, 0.29, 0.3 , 0.31, 0.32,\n",
       "       0.33, 0.34, 0.35, 0.36, 0.37, 0.38, 0.39, 0.4 , 0.41, 0.42, 0.43,\n",
       "       0.44, 0.45, 0.46, 0.47, 0.48, 0.49, 0.5 , 0.51, 0.52, 0.53, 0.54,\n",
       "       0.55, 0.56, 0.57, 0.58, 0.59, 0.6 , 0.61, 0.62, 0.63, 0.64, 0.65,\n",
       "       0.66, 0.67, 0.68, 0.69, 0.7 , 0.71, 0.72, 0.73, 0.74, 0.75, 0.76,\n",
       "       0.77, 0.78, 0.79, 0.8 , 0.81, 0.82, 0.83, 0.84, 0.85, 0.86, 0.87,\n",
       "       0.88, 0.89, 0.9 , 0.91, 0.92, 0.93, 0.94, 0.95, 0.96, 0.97, 0.98,\n",
       "       0.99, 1.  , 1.01, 1.02, 1.03, 1.04, 1.05, 1.06, 1.07, 1.08, 1.09,\n",
       "       1.1 , 1.11, 1.12, 1.13, 1.14, 1.15, 1.16, 1.17, 1.18, 1.19, 1.2 ,\n",
       "       1.21, 1.22, 1.23, 1.24, 1.25, 1.26, 1.27, 1.28, 1.29, 1.3 , 1.31,\n",
       "       1.32, 1.33, 1.34, 1.35, 1.36, 1.37, 1.38, 1.39, 1.4 , 1.41, 1.42,\n",
       "       1.43, 1.44, 1.45, 1.46, 1.47, 1.48, 1.49, 1.5 , 1.51, 1.52, 1.53,\n",
       "       1.54, 1.55, 1.56, 1.57, 1.58, 1.59, 1.6 , 1.61, 1.62, 1.63, 1.64,\n",
       "       1.65, 1.66, 1.67, 1.68, 1.69, 1.7 , 1.71, 1.72, 1.73, 1.74, 1.75,\n",
       "       1.76, 1.77, 1.78, 1.79, 1.8 , 1.81, 1.82, 1.83, 1.84, 1.85, 1.86,\n",
       "       1.87, 1.88, 1.89, 1.9 , 1.91, 1.92, 1.93, 1.94, 1.95, 1.96, 1.97,\n",
       "       1.98, 1.99])"
      ]
     },
     "execution_count": 57,
     "metadata": {
     },
     "output_type": "execute_result"
    }
   ],
   "source": [
    "start  = 0\n",
    "stop = 2\n",
    "increment = 0.01\n",
    "x = np.arange(start,stop,increment)\n",
    "x"
   ]
  },
  {
   "cell_type": "code",
   "execution_count": 8,
   "metadata": {
    "collapsed": false
   },
   "outputs": [
    {
     "name": "stderr",
     "output_type": "stream",
     "text": [
      "WARNING: Some output was deleted.\n"
     ]
    }
   ],
   "source": [
    "import matplotlib.pyplot as plt\n",
    "import numpy as np\n",
    "\n",
    "x = np.arange(-1,1,0.01)\n",
    "y = 8*x**2-2*x\n",
    "plt.plot(x,np.sin(x))\n",
    "plt.plot(x,y)\n",
    "plt.legend([\"sin\",\"quadratic\"])\n",
    "plt.title(\"Sine vs a quadratic\")\n",
    "plt.show()"
   ]
  },
  {
   "cell_type": "markdown",
   "metadata": {
    "collapsed": false
   },
   "source": [
    "# Exercise:\n",
    "\n",
    "In the same window, plot all of the following\n",
    "\n",
    "    1. y = sin(x)\n",
    "    2. y = x\n",
    "    3. y = x - x**3/(3*2)\n",
    "    4. y = x - x**3/3 + x**5/(5*4*3*2)\n",
    "    5. y = x - x**3/3 + x**5/(5*4*3*2) - x**7/(7*6*5*4*3*2)\n"
   ]
  },
  {
   "cell_type": "code",
   "execution_count": 10,
   "metadata": {
    "collapsed": false,
    "scrolled": true
   },
   "outputs": [
    {
     "name": "stderr",
     "output_type": "stream",
     "text": [
      "WARNING: Some output was deleted.\n"
     ]
    }
   ],
   "source": [
    "import matplotlib.pyplot as plt\n",
    "import numpy as np\n",
    "N = 4\n",
    "x = np.arange(-3,3,0.01)\n",
    "y = np.sin(x)\n",
    "y2 = x\n",
    "y3 = x - x**3/(3*2)\n",
    "y4 = x - x**3/3 + x**5/(5*4*3*2)\n",
    "y5 = x - x**3/3 + x**5/(5*4*3*2) - x**7/(7*6*5*4*3*2)\n",
    "plt.plot(x,y)\n",
    "plt.plot(x,y2)\n",
    "plt.plot(x,y3)\n",
    "plt.plot(x,y4)\n",
    "plt.plot(x,y5)\n",
    "plt.legend(['sin','one','two','three','four','five'])\n",
    "plt.show()"
   ]
  },
  {
   "cell_type": "code",
   "execution_count": 20,
   "metadata": {
    "collapsed": false
   },
   "outputs": [
    {
     "name": "stderr",
     "output_type": "stream",
     "text": [
      "WARNING: Some output was deleted.\n"
     ]
    }
   ],
   "source": [
    "import math\n",
    "plt.plot(x,np.sin(x))\n",
    "N = 10\n",
    "y = np.zeros(len(x))\n",
    "for i in range(N):\n",
    "    y += (-1)**(i)*x**(2*i+1)/math.factorial(2*i+1)\n",
    "    plt.plot(x,y)\n",
    "plt.show()    "
   ]
  },
  {
   "cell_type": "code",
   "execution_count": 68,
   "metadata": {
    "collapsed": false
   },
   "outputs": [
    {
     "name": "stderr",
     "output_type": "stream",
     "text": [
      "WARNING: Some output was deleted.\n"
     ]
    }
   ],
   "source": [
    "import matplotlib.pyplot as plt\n",
    "\n",
    "x = np.arange(-1,1,0.001)\n",
    "\n",
    "leg = []\n",
    "for i in range(1,6):\n",
    "    plt.plot(x,1/i*x**2)\n",
    "    leg.append(r\"$1/{}x^2$\".format(i))\n",
    "plt.legend(leg)    \n",
    "plt.show()"
   ]
  },
  {
   "cell_type": "code",
   "execution_count": 69,
   "metadata": {
    "collapsed": false
   },
   "outputs": [
    {
     "data": {
      "text/plain": [
       "True"
      ]
     },
     "execution_count": 69,
     "metadata": {
     },
     "output_type": "execute_result"
    }
   ],
   "source": [
    "np.log(np.e)==1\n"
   ]
  },
  {
   "cell_type": "code",
   "execution_count": 17,
   "metadata": {
    "collapsed": false
   },
   "outputs": [
    {
     "name": "stderr",
     "output_type": "stream",
     "text": [
      "WARNING: Some output was deleted.\n"
     ]
    }
   ],
   "source": [
    "#one way to do subplots\n",
    "\n",
    "import matplotlib.pyplot as plt\n",
    "import numpy as np\n",
    "\n",
    "fig,axes = plt.subplots(nrows=2,ncols=2, figsize=(7,7))\n",
    "x = np.arange(-3,3,0.1)\n",
    "axes[0,0].plot(x,x)\n",
    "axes[0,1].plot(x,np.sin(x))\n",
    "axes[1,0].plot(x,np.sin(2*x))\n",
    "axes[1,1].plot(x,x**3)\n",
    "plt.show()"
   ]
  },
  {
   "cell_type": "code",
   "execution_count": 19,
   "metadata": {
    "collapsed": false
   },
   "outputs": [
    {
     "data": {
      "text/plain": [
       "array([1, 2, 3])"
      ]
     },
     "execution_count": 19,
     "metadata": {
     },
     "output_type": "execute_result"
    }
   ],
   "source": [
    "np.diff(np.array([1,2,4,7]))\n"
   ]
  },
  {
   "cell_type": "code",
   "execution_count": 79,
   "metadata": {
    "collapsed": false
   },
   "outputs": [
    {
     "name": "stderr",
     "output_type": "stream",
     "text": [
      "WARNING: Some output was deleted.\n"
     ]
    }
   ],
   "source": [
    "#another way to do subplots\n",
    "\n",
    "x = np.arange(-3,3,0.01)\n",
    "\n",
    "plt.subplot(3,1,1)\n",
    "plt.plot(x,x**2)\n",
    "\n",
    "\n",
    "plt.subplot(3,1,2)\n",
    "plt.plot(x,np.ones(len(x))*42,color=\"green\")\n",
    "\n",
    "\n",
    "plt.subplot(3,1,3)\n",
    "plt.plot(x,np.tan(x),color=\"blue\")\n",
    "plt.show()"
   ]
  },
  {
   "cell_type": "code",
   "execution_count": 75,
   "metadata": {
    "collapsed": false
   },
   "outputs": [
    {
     "name": "stderr",
     "output_type": "stream",
     "text": [
      "WARNING: Some output was deleted.\n"
     ]
    }
   ],
   "source": [
    "x = np.arange(0,2,0.01)\n",
    "plt.subplot(2,2,1)\n",
    "plt.plot(x,x**2)\n",
    "\n",
    "plt.subplot(2,2,2)\n",
    "plt.plot(x,np.sin(x**3),color=\"red\")\n",
    "\n",
    "plt.subplot(2,2,3)\n",
    "plt.plot(x,x**4,color=\"purple\")\n",
    "\n",
    "plt.subplot(2,2,4)\n",
    "plt.plot(x,x**5,color=\"orange\")\n",
    "plt.show()"
   ]
  },
  {
   "cell_type": "code",
   "execution_count": 73,
   "metadata": {
    "collapsed": false
   },
   "outputs": [
    {
     "name": "stderr",
     "output_type": "stream",
     "text": [
      "/ext/anaconda5/lib/python3.6/site-packages/ipykernel/__main__.py:6: RuntimeWarning: divide by zero encountered in log\n"
     ]
    },
    {
     "name": "stderr",
     "output_type": "stream",
     "text": [
      "WARNING: Some output was deleted.\n"
     ]
    }
   ],
   "source": [
    "import numpy as np\n",
    "x = np.arange(0,2,0.01)\n",
    "\n",
    "import matplotlib.pyplot as plt\n",
    "\n",
    "y = np.log(x)\n",
    "plt.plot(x,y)\n",
    "y = np.sqrt(x)\n",
    "plt.plot(x,y)\n",
    "plt.legend([r\"$\\ln(x)$\",r\"$\\sqrt{x}$\"])\n",
    "plt.title(\"The greatest functions of all time.\")\n",
    "plt.show()"
   ]
  },
  {
   "cell_type": "markdown",
   "metadata": {
    "collapsed": false
   },
   "source": [
    "## Axes\n",
    "\n",
    "What happens if you sum a numpy array?  Let's see...\n",
    "\n"
   ]
  },
  {
   "cell_type": "code",
   "execution_count": 16,
   "metadata": {
    "collapsed": false
   },
   "outputs": [
    {
     "data": {
      "text/plain": [
       "array([[ 0,  1,  2,  3],\n",
       "       [ 4,  5,  6,  7],\n",
       "       [ 8,  9, 10, 11],\n",
       "       [12, 13, 14, 15]])"
      ]
     },
     "execution_count": 16,
     "metadata": {
     },
     "output_type": "execute_result"
    }
   ],
   "source": [
    "A = np.array(range(16)).reshape(4,4)\n",
    "A"
   ]
  },
  {
   "cell_type": "code",
   "execution_count": 18,
   "metadata": {
    "collapsed": false
   },
   "outputs": [
    {
     "data": {
      "text/plain": [
       "array([ 6, 22, 38, 54])"
      ]
     },
     "execution_count": 18,
     "metadata": {
     },
     "output_type": "execute_result"
    }
   ],
   "source": [
    "np.sum(A,axis=1)"
   ]
  },
  {
   "cell_type": "markdown",
   "metadata": {
    "collapsed": false
   },
   "source": [
    "Weirdly the sum is a vector?\n",
    "\n",
    "If you check, you'll see that these are _column_ sums.  That means that 24 is the sum of the first column, 28 is the sum of the 2nd column, etc.\n",
    "\n",
    "What if you want to sum the rows instead?\n",
    "\n",
    "That's what the optional _axis_ parameter is for.\n",
    "\n",
    "Columns are axis 0.  Rows are axis 1.\n"
   ]
  },
  {
   "cell_type": "code",
   "execution_count": 47,
   "metadata": {
    "collapsed": false
   },
   "outputs": [
    {
     "data": {
      "text/plain": [
       "array([24, 28, 32, 36])"
      ]
     },
     "execution_count": 47,
     "metadata": {
     },
     "output_type": "execute_result"
    }
   ],
   "source": [
    "np.sum(A,axis=0)"
   ]
  },
  {
   "cell_type": "code",
   "execution_count": 50,
   "metadata": {
    "collapsed": false
   },
   "outputs": [
    {
     "data": {
      "text/plain": [
       "array([ 6, 22, 38, 54])"
      ]
     },
     "execution_count": 50,
     "metadata": {
     },
     "output_type": "execute_result"
    }
   ],
   "source": [
    "np.sum(A,axis=1)"
   ]
  },
  {
   "cell_type": "markdown",
   "metadata": {
    "collapsed": false
   },
   "source": [
    "Not specifying an axis just adds up everything.\n"
   ]
  },
  {
   "cell_type": "code",
   "execution_count": 51,
   "metadata": {
    "collapsed": false
   },
   "outputs": [
    {
     "data": {
      "text/plain": [
       "120"
      ]
     },
     "execution_count": 51,
     "metadata": {
     },
     "output_type": "execute_result"
    }
   ],
   "source": [
    "np.sum(A)"
   ]
  },
  {
   "cell_type": "markdown",
   "metadata": {
    "collapsed": false
   },
   "source": [
    "Lots of numpy built-in function work this way..."
   ]
  },
  {
   "cell_type": "code",
   "execution_count": 55,
   "metadata": {
    "collapsed": false
   },
   "outputs": [
    {
     "data": {
      "text/plain": [
       "array([3, 3, 3, 3])"
      ]
     },
     "execution_count": 55,
     "metadata": {
     },
     "output_type": "execute_result"
    }
   ],
   "source": [
    "np.argmax(A,axis=0)"
   ]
  },
  {
   "cell_type": "code",
   "execution_count": 0,
   "metadata": {
    "collapsed": false
   },
   "outputs": [
   ],
   "source": [
   ]
  },
  {
   "cell_type": "markdown",
   "metadata": {
    "collapsed": false
   },
   "source": [
    "The above output means that the row index of the biggest element in each column is 3.\n",
    "\n",
    "Analyzing a random matrix might shed more light on this..."
   ]
  },
  {
   "cell_type": "code",
   "execution_count": 20,
   "metadata": {
    "collapsed": false
   },
   "outputs": [
    {
     "data": {
      "text/plain": [
       "array([[0.79428538, 0.38188804, 0.66323077, 0.83878719],\n",
       "       [0.69391367, 0.71631395, 0.98692463, 0.15381442],\n",
       "       [0.97299405, 0.49236495, 0.53853741, 0.99318735]])"
      ]
     },
     "execution_count": 20,
     "metadata": {
     },
     "output_type": "execute_result"
    }
   ],
   "source": [
    "B = np.array([ np.random.random() for i in range(12)]).reshape(3,4)\n",
    "B"
   ]
  },
  {
   "cell_type": "code",
   "execution_count": 38,
   "metadata": {
    "collapsed": false
   },
   "outputs": [
    {
     "data": {
      "text/plain": [
       "0.9931873525764595"
      ]
     },
     "execution_count": 38,
     "metadata": {
     },
     "output_type": "execute_result"
    }
   ],
   "source": [
    "#Exercise\n",
    "#Find the index (row and column) and the value of the biggest entry in B\n",
    "np.argmax(B)\n",
    "B.flatten()[11]"
   ]
  },
  {
   "cell_type": "code",
   "execution_count": 26,
   "metadata": {
    "collapsed": false
   },
   "outputs": [
    {
     "data": {
      "text/plain": [
       "array([0.97299405, 0.71631395, 0.98692463, 0.99318735])"
      ]
     },
     "execution_count": 26,
     "metadata": {
     },
     "output_type": "execute_result"
    }
   ],
   "source": [
    "maxes = np.argmax(B,axis=0)\n",
    "maxes\n",
    "B.T[[0,1,2,3],maxes]"
   ]
  },
  {
   "cell_type": "code",
   "execution_count": 41,
   "metadata": {
    "collapsed": false
   },
   "outputs": [
    {
     "data": {
      "text/plain": [
       "array([0.79428538, 0.49236495, 0.66323077, 0.83878719])"
      ]
     },
     "execution_count": 41,
     "metadata": {
     },
     "output_type": "execute_result"
    }
   ],
   "source": [
    "np.median(B,axis=0)"
   ]
  },
  {
   "cell_type": "code",
   "execution_count": 62,
   "metadata": {
    "collapsed": false
   },
   "outputs": [
    {
     "data": {
      "text/plain": [
       "array([3, 1, 0])"
      ]
     },
     "execution_count": 62,
     "metadata": {
     },
     "output_type": "execute_result"
    }
   ],
   "source": [
    "np.argmax(B,axis=1)"
   ]
  },
  {
   "cell_type": "code",
   "execution_count": 64,
   "metadata": {
    "collapsed": false
   },
   "outputs": [
   ],
   "source": [
    "# Exercise:\n",
    "\n",
    "# Find the argmin for B on both axes and interpret the result\n",
    "\n",
    "# Do the same thing for the mean and median.\n"
   ]
  },
  {
   "cell_type": "code",
   "execution_count": 83,
   "metadata": {
    "collapsed": false
   },
   "outputs": [
    {
     "data": {
      "text/plain": [
       "array([ 0,  1,  1,  3,  8,  9, 44])"
      ]
     },
     "execution_count": 83,
     "metadata": {
     },
     "output_type": "execute_result"
    }
   ],
   "source": [
    "#  You can use argmin, argmax, and even \"argsort\"\n",
    "nums = np.array([8,9,1,3,0,1,44])\n",
    "nums[np.argsort(nums)]\n"
   ]
  },
  {
   "cell_type": "markdown",
   "metadata": {
    "collapsed": false
   },
   "source": [
    "# And more...\n",
    "\n",
    "Here is a nice tutorial showing you how to do more things...\n",
    "\n",
    "[http://cs231n.github.io/python-numpy-tutorial/](http://cs231n.github.io/python-numpy-tutorial/)\n",
    "    "
   ]
  },
  {
   "cell_type": "code",
   "execution_count": 0,
   "metadata": {
    "collapsed": false
   },
   "outputs": [
   ],
   "source": [
   ]
  },
  {
   "cell_type": "code",
   "execution_count": 0,
   "metadata": {
    "collapsed": false
   },
   "outputs": [
   ],
   "source": [
   ]
  },
  {
   "cell_type": "code",
   "execution_count": 0,
   "metadata": {
    "collapsed": false
   },
   "outputs": [
   ],
   "source": [
   ]
  }
 ],
 "metadata": {
  "kernelspec": {
   "display_name": "Python 3 (Anaconda 5)",
   "env": {
    "LD_LIBRARY_PATH": "/ext/anaconda5/lib",
    "PYTHONHOME": "/ext/anaconda5/lib/python3.5",
    "PYTHONPATH": "/ext/anaconda5/lib/python3.5:/ext/anaconda5/lib/python3.5/site-packages"
   },
   "language": "python",
   "metadata": {
    "cocalc": {
     "description": "Python/R distribution for data science",
     "priority": 5,
     "url": "https://www.anaconda.com/distribution/"
    }
   },
   "name": "anaconda5"
  },
  "language_info": {
   "codemirror_mode": {
    "name": "ipython",
    "version": 3
   },
   "file_extension": ".py",
   "mimetype": "text/x-python",
   "name": "python",
   "nbconvert_exporter": "python",
   "pygments_lexer": "ipython3",
   "version": "3.6.7"
  }
 },
 "nbformat": 4,
 "nbformat_minor": 0
}
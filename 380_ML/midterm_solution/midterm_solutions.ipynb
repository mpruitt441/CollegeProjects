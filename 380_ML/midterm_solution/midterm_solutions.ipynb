{
 "cells": [
  {
   "cell_type": "markdown",
   "metadata": {
    "collapsed": false
   },
   "source": [
    "#### Midterm Solutions\n"
   ]
  },
  {
   "cell_type": "markdown",
   "metadata": {
    "collapsed": false
   },
   "source": [
    "#### Problem 1\n",
    "\n",
    "Please do Exercise 1.11 on page 25 of Learning From Data. \n"
   ]
  },
  {
   "cell_type": "code",
   "execution_count": 0,
   "metadata": {
    "collapsed": false
   },
   "outputs": [
   ],
   "source": [
   ]
  },
  {
   "cell_type": "code",
   "execution_count": 0,
   "metadata": {
    "collapsed": false
   },
   "outputs": [
   ],
   "source": [
   ]
  },
  {
   "cell_type": "markdown",
   "metadata": {
    "collapsed": false
   },
   "source": [
    "Note on the solution to #1:  I have written two solutions below.  These answer slightly different questions!  The difference is in the phrasing of the question in part (b).  I worked hard to answer the wrong question, so I have left that solution in.  I think that the \"wrong\" question is the more interesting one.:)  In fact the \"true\" question is so bad I don't think it can really be what they wanted to ask.  For that reason I will accept either style of answer as correct.\n",
    "\n",
    "I begin with the solution to the question that the book _didn't_ ask.\n"
   ]
  },
  {
   "cell_type": "markdown",
   "metadata": {
    "collapsed": false
   },
   "source": [
    "#### Solution to #1 with misprint in (b)\n",
    "\n",
    "<b>Exercise 1.11</b><br>\n",
    "<b>We are given a data set $D$ of 25 training examples from an unknown target function $f$: $\\mathcal{X}$→$\\mathcal{Y}$, where $\\mathcal{X}$ = $\\mathbb{R}$ and $\\mathcal{Y}$ = {$-1, +1$}. To learn $f$, we use a simple hypothesis set $\\mathcal{H}$ = {$h_{1}, h_{2}$}, where $h_{1}$ is the constant $+1$ function and $h_{2}$ is the constant $-1$.<br>\n",
    "\n",
    "We consider two learning algorithms, S (smart) and C (crazy). S chooses the  hypothesis that agrees the most with $\\mathcal{D}$ and C chooses the other hypothesis deliberately. Let us see how these algorithms perform out of sample from the deterministic and probabilistic points of view. Assume in the probabilistic view that there is a probability distribution on $\\mathcal{X}$, and let $\\mathbb{P}[f(x)=+1]=p.$</b><br>"
   ]
  },
  {
   "cell_type": "markdown",
   "metadata": {
    "collapsed": false
   },
   "source": [
    "<b>(a) Can S produce a hypothesis that is <i>guaranteed</i> to perform better than random on any point outside $D$?</b><br>"
   ]
  },
  {
   "cell_type": "markdown",
   "metadata": {
    "collapsed": false
   },
   "source": [
    "<b>(b) Suppose (_for this part only_) that all the examples in $\\mathcal{D}$ have $y_{n} = +1.$ Is it <i>possible</i> that the hypothesis that C produces turns out to be better than the hypothesis that S produces?</b><br>"
   ]
  },
  {
   "cell_type": "markdown",
   "metadata": {
    "collapsed": false
   },
   "source": [
    "<b>(c) If $p$ = 0.9, what is the probability that S will produce a better hypothesis than C?</b><br>"
   ]
  },
  {
   "cell_type": "markdown",
   "metadata": {
    "collapsed": false
   },
   "source": [
    "<b>(d) Is there any value of $p$ for which it is more likely than not that C will produce a better hypothesis than S?</b><br>\n"
   ]
  },
  {
   "cell_type": "markdown",
   "metadata": {
    "collapsed": false
   },
   "source": [
    "#1:\n",
    "\n",
    "a) no.  It's possible all values in $\\mathcal{D}$ are +1 when $p=0.1$. Then the out of sample error of $S$ is 90%, but the out of sample error of a random strategy is 50%.  \n",
    "\n",
    "b) yes, because there is a nonzero chance this will happen if $p=0.1$, for example.  Then S has out of sample error 90% and C has out of sample error 10%.\n",
    "\n",
    "c) The right hypothesis when $p=0.9$ is $h_1$. S will select $h_1$ and C will select $h_2$ so long as the sample $\\mathcal{D}$ is representative.  That means 13 or more of the datapoints are classified +1. \n",
    "\n",
    "The probability that this happens is given by the binomial distribution with $p=0.9$ and $n=25$. The random variable $X$ is the number of \"successes\" in 25 Bernoulli trials, where a \"success\" is a +1 classification.\n",
    "\n",
    "$$P[X \\geq 13;p] = \\sum_{i=13}^{25} p^i(1-p)^{25-i}\\binom{25}{i}$$\n",
    "\n",
    "The following cell computes this value.\n"
   ]
  },
  {
   "cell_type": "code",
   "execution_count": 1,
   "metadata": {
    "collapsed": false
   },
   "outputs": [
    {
     "data": {
      "text/plain": [
       "0.9999998379165849"
      ]
     },
     "execution_count": 1,
     "metadata": {
     },
     "output_type": "execute_result"
    }
   ],
   "source": [
    "from scipy.special import binom\n",
    "\n",
    "sum(0.9**i*0.1**(25-i)*binom(25,i) for i in range(13,26))"
   ]
  },
  {
   "cell_type": "markdown",
   "metadata": {
    "collapsed": false
   },
   "source": [
    "\n",
    "d) No. \n",
    "\n",
    "If $p=0.5$, S and C perform the same -- 50% out of sample error.\n",
    "\n",
    "C only beats S when the sample is unrepresentative.\n",
    "\n",
    "If $p > 0.5$ the probability that a sample is unrepresentative is the probability that there are at most 12 +1's in $\\mathcal{D}$:\n",
    "\n",
    "$$P[X \\leq 12; p] = \\sum_{i=0}^{12}p^i(1-p)^{25-i}\\binom{25}{i}$$\n",
    "\n",
    "Observe that $P[X \\leq 12; p]$ must be a decreasing function of $p$.  If we require $p\\geq 0.5$, the maximum will occur at $p=0.5$.  By inspection we see that this maximum value (never attained for $p>0.5$) is 0.5.\n",
    "\n",
    "On the other hand if $p < 0.5$ the probability that a sample is unrepresentative is \n",
    "\n",
    "$$P[X \\geq 13; p] = \\sum_{i=13}^{25}p^i(1-p)^{25-i}\\binom{25}{i}$$\n",
    "\n",
    "\n",
    "We can use an argument similar to the $p>0.5$ case to show that the sum on the right is bounded above by 0.5 when $p<0.5$.\n",
    "\n",
    "\n",
    "So in either case it's more likely than not that S makes the better decision. \n",
    "\n",
    "A picture is given below.\n",
    "\n"
   ]
  },
  {
   "cell_type": "code",
   "execution_count": 3,
   "metadata": {
    "collapsed": false
   },
   "outputs": [
    {
     "data": {
      "image/png": "[encoded data removed]",
      "text/plain": [
       "<Figure size 432x288 with 1 Axes>"
      ]
     },
     "execution_count": 3,
     "metadata": {
      "image/png": {
       "height": 263,
       "width": 373
      },
      "needs_background": "light"
     },
     "output_type": "execute_result"
    }
   ],
   "source": [
    "%matplotlib inline\n",
    "import matplotlib.pyplot as plt\n",
    "import numpy as np\n",
    "\n",
    "p = np.linspace(0,1)\n",
    "y = sum(p**i*(1-p)**(25-i)*binom(25,i) for i in range(13))\n",
    "yy= sum(p**i*(1-p)**(25-i)*binom(25,i) for i in range(13,26))\n",
    "plt.plot(p[25:],y[25:],label=r\"$P[X \\leq 12;p]$\")\n",
    "plt.plot(p[:25],yy[:25],label=r\"$P[X \\geq 13;p]$\")\n",
    "plt.scatter([0.5],[0.5])\n",
    "plt.plot([0.5,0.5],[0,1],label=r\"p = 0.5\")\n",
    "plt.plot(p,[0.5]*len(p),label=r\"y=0.5\")\n",
    "plt.xlabel(\"p\")\n",
    "plt.legend()\n",
    "plt.show()"
   ]
  },
  {
   "cell_type": "markdown",
   "metadata": {
    "collapsed": false
   },
   "source": [
    "#### Solution to #1 without misprint in (b)\n",
    "\n",
    "In the book the following version of part (b) is asked:"
   ]
  },
  {
   "cell_type": "markdown",
   "metadata": {
    "collapsed": false
   },
   "source": [
    "<b>(b) Suppose _for the rest of the exercise_ that all the examples in $\\mathcal{D}$ have $y_{n} = +1.$ Is it <i>possible</i> that the hypothesis that C produces turns out to be better than the hypothesis that S produces?</b><br>"
   ]
  },
  {
   "cell_type": "markdown",
   "metadata": {
    "collapsed": false
   },
   "source": [
    "#### Answer to the \"real\" part (c):\n",
    "\n",
    "The chances that S chooses the best hypothesis is 100%.  Since every point in $\\mathcal{D}$ is labeled $+1$, S will choose $h_1$.  And this is also the right choice if $p=0.9$.  \n",
    "\n",
    "However the derivation from the website (http://book.caltech.edu/bookforum/showthread.php?t=4472) by user tatung2112 (which some people plagiarized...) is not correct, despite the fact that Prof Yasser says that it is.  That's because the derivation says  P(Cy = +1) = 0.5, but really  P(Cy = +1) = 0.  The eventual conclusion is correct.\n",
    "\n",
    "This problem turned out to be very confusing.  \n",
    "\n"
   ]
  },
  {
   "cell_type": "markdown",
   "metadata": {
    "collapsed": false
   },
   "source": [
    "#### Answer to the real part (d):\n",
    "\n",
    "Yes, $p<0.5$. S will choose $h_1$ because of $\\mathcal{D}$, but in this case that choice is wrong.  \n"
   ]
  },
  {
   "cell_type": "markdown",
   "metadata": {
    "collapsed": false
   },
   "source": [
    "#### Problem 2\n",
    "\n",
    "Please do Exercise 1.12 on page 26 of Learning From Data.  Explain why the options you discarded are not accurate.  "
   ]
  },
  {
   "cell_type": "markdown",
   "metadata": {
    "collapsed": false
   },
   "source": [
    "<b>Exercise 1.12</b><br>\n",
    "<b>A friend comes to you with a learning problem. She says the target function $f$ is <i>completely</i> unknown, but she has 4,000 data points. She is willing to pay you to solve her problem and produces for her a $g$ which approximates $f$. What is the best that you can promise her among the following:<br>\n",
    "(a) After learning you will provide her with a $g$ that you will guarantee approximates $f$ well out of sample.<br>\n",
    "(b) After learning you will provide her with a $g$, and with high probability the $g$ which you produce will approximate $f$ well out of sample.<br>\n",
    "(c) One of two things will happen.<br>\n",
    "$\\hspace{0.5cm}$(i)You will produce a hypothesis $g$;<br>\n",
    "$\\hspace{0.5cm}$(i)You will declare that you failed.<br>\n",
    "    $\\hspace{0.5cm}$If you do return a hypothesis $g$, then with high probability the $g$ which you produce will approximate $f$ well out of sample.</b><br><br>\n"
   ]
  },
  {
   "cell_type": "markdown",
   "metadata": {
    "collapsed": false
   },
   "source": [
    "The basic problem here is that if $f$ is very complex, 4000 datapoints might not be enough data for us to find a complex hypothesis with good generalization. Think about a learning curve that reflects this situation... We need the asymptote to be low (for $g \\approx f$). Suppose $f$ is complex, and $\\mathcal{H}$ that has test error converging to this low asymptote as $N \\to \\infty$.  If $f$ is sufficiently complex, the test error curve will not meet the training error curve until well after $N=4000$. \n",
    "\n",
    "\n",
    "\n",
    "a) We cannot make this promise... Consider the case in which $f$ is totally random.  The performance of $f$ on the data does not constrain what $f$ does off the training data in any way. Any $g$ will have a 50% out of sample error rate with 100% probability.  In other words any $g$ will be no better at making predictions than flipping a coin.\n",
    "\n",
    "\n",
    "b) No.  Again, $f$ may be totally random. In that case any $g$ will have a 50% error rate with 100% probability.\n",
    "\n",
    "c) Although it is not stated, we assume that the 4000 datapoints are randomly chosen, and therefore test error approximates out of sample error. Under this assumption there is a chance that our final $g$ has very low test error.  In this case we can give $g$ to the customer, and it should work well.  But if $g$ does not have low test error, we have to admit that we failed. The answer to this part is \"yes\".\n",
    "\n",
    "\n"
   ]
  },
  {
   "cell_type": "markdown",
   "metadata": {
    "collapsed": false
   },
   "source": [
    "#### Problem 3\n",
    "\n",
    "Please do Exercise 2.5 on page 56 of Learning From Data.  Be sure to show your calculations.  "
   ]
  },
  {
   "cell_type": "markdown",
   "metadata": {
    "collapsed": false
   },
   "source": [
    "<b>Exercise 2.5</b><br>\n",
    "Suppose we have a simple learning model whose growth function is $m_\\mathcal{H}(N) = N + 1$, hence $d_{vc} = 1$. Use the VC bound (2.12) to estimate the probability that $E_{out}$ will be within 0.1 of $E_{in}$ given 100 training examples. <i>[Hint: The estimate will be ridiculous.]</i>"
   ]
  },
  {
   "cell_type": "markdown",
   "metadata": {
    "collapsed": false
   },
   "source": [
    "\n",
    "(This solution is Kristy Li's)\n",
    " \n",
    "$E_{out}(g) \\leq E_{in}(g) + \\sqrt{\\dfrac{8}{N}\\ln\\dfrac{4m_\\mathcal{H}(2N)}{\\delta}}$, where $m_\\mathcal{H}(2N)=2N+1$ and $N=100$. <br>\n",
    "\n",
    "Therefore, $m_\\mathcal{H}(200) = 200 + 1 =201.$<br><br>\n",
    "$0.1 = \\sqrt{\\dfrac{8}{100}\\ln\\dfrac{4*m_\\mathcal{H}(2*100)}{\\delta}}$<br><br>\n",
    "$0.1 = \\sqrt{\\dfrac{8}{100}\\ln\\dfrac{(4*201)}{\\delta}}$<br><br>\n",
    "$0.1 = \\sqrt{\\dfrac{8}{100}\\ln\\dfrac{(804)}{\\delta}}$<br><br>\n",
    "$(0.1)^2 = (\\sqrt{\\dfrac{8}{100}\\ln\\dfrac{(804)}{\\delta}})^2$<br><br>\n",
    "$0.01 = \\dfrac{8}{100}\\ln\\dfrac{(804)}{\\delta}$<br><br>\n",
    "$100 * 0.01 = 100 * \\dfrac{8}{100}\\ln\\dfrac{(804)}{\\delta}$<br><br>\n",
    "$1 = 8\\ln\\dfrac{(804)}{\\delta}$<br><br>\n",
    "$\\dfrac{1}{8} = \\dfrac{8\\ln\\dfrac{(804)}{\\delta}}{8}$<br><br>\n",
    "$\\dfrac{1}{8} = \\ln\\dfrac{(804)}{\\delta}$<br><br>\n",
    "$\\mathcal{e}^{1/8} = \\mathcal{e}^{\\ln(804/\\delta)}$<br><br>\n",
    "$\\mathcal{e}^{1/8} = \\dfrac{804}{\\delta}$<br><br>\n",
    "$\\dfrac{\\mathcal{e}^{1/8}}{1} = \\dfrac{804}{\\delta}$<br><br>\n",
    "$\\mathcal{e}^{1/8}{\\delta} = 804$<br><br>\n",
    "$\\dfrac{\\mathcal{e}^{1/8}{\\delta}}{\\mathcal{e}^{1/8}} = \\dfrac{804}{\\mathcal{e}^{1/8}}$<br><br>\n",
    "$\\delta = \\dfrac{804}{\\mathcal{e}^{1/8}}$<br><br>\n",
    "$\\delta = 709.5275096780147$<br><br>"
   ]
  },
  {
   "cell_type": "markdown",
   "metadata": {
    "collapsed": false
   },
   "source": [
    "#### Problem 4\n",
    "\n",
    "Please do Exercise 2.6 on page 60 of Learning From Data."
   ]
  },
  {
   "cell_type": "markdown",
   "metadata": {
    "collapsed": false
   },
   "source": [
    "<b>Exercise 2.6</b><br>\n",
    "<b>A dataset has 600 examples. To properly test the performance of the final hypothesis, you set aside a randomly selected subset of 200 examples which are never used in the training phase, these form a test set. You use a learning model with 1,000 hypotheses and select the final hypothesis <i>$g$</i> based on 400 training examples. We wish to estimate $E_{out}(g)$. We have access to two estimates, $E_{in}(g)$, the in-sample error on the 400 training examples, and, $E_{test}(g)$, the test error on the 200 test examples that were set aside.</b><br>"
   ]
  },
  {
   "cell_type": "markdown",
   "metadata": {
    "collapsed": false
   },
   "source": [
    "<b>(a) Using a 5% error tolerance ($\\delta$ =0.05), which estimate has the higher 'error bar'?</b><br>\n"
   ]
  },
  {
   "cell_type": "markdown",
   "metadata": {
    "collapsed": false
   },
   "source": [
    "Because the mention $M=1000$ it makes the most sense to use the Formula 2.1 on page 40.\n",
    "\n",
    "$$E_{out}(g) \\leq E_{in}(g) + \\sqrt{\\frac{1}{2N}\\ln(\\frac{2M}{\\delta})}$$\n",
    "\n",
    "For $E_{in}$ on the 400 training examples, $\\sqrt{\\frac{1}{2N}\\ln(\\frac{2M}{\\delta})} = \\sqrt{\\frac{1}{800}\\ln(\\frac{2000}{0.05})} = 0.11509037065006825$\n",
    "\n",
    "For $E_{test}$ on the 200 test examples, $\\sqrt{\\frac{1}{2N}\\ln(\\frac{2M}{\\delta})} = \\sqrt{\\frac{1}{400}\\ln(\\frac{2}{0.05})} = 0.09603227913199208\n",
    "$\n",
    "\n",
    "Therefore the test error is a better estimator for $E_{out}$.\n"
   ]
  },
  {
   "cell_type": "code",
   "execution_count": 3,
   "metadata": {
    "collapsed": false
   },
   "outputs": [
    {
     "data": {
      "text/plain": [
       "0.09603227913199208"
      ]
     },
     "execution_count": 3,
     "metadata": {
     },
     "output_type": "execute_result"
    }
   ],
   "source": [
    "import numpy as np\n",
    "np.sqrt(1/400*np.log(2/0.05))"
   ]
  },
  {
   "cell_type": "markdown",
   "metadata": {
    "collapsed": false
   },
   "source": [
    "<b>(b) Is there any reason why you shouldn't reserve even more examples for testing?</b><br>\n"
   ]
  },
  {
   "cell_type": "markdown",
   "metadata": {
    "collapsed": false
   },
   "source": [
    "Yes, this will leave fewer data available for training and the training error will get worse.  If the final model is not retrained on all data, this will also make the out of sample error go up.  This situation is described in Figure 4.8 on page 140.\n"
   ]
  },
  {
   "cell_type": "markdown",
   "metadata": {
    "collapsed": false
   },
   "source": [
    "#### Problem 5\n",
    "Please do Problem 2.8 on page 70 of Learning From Data.\n"
   ]
  },
  {
   "cell_type": "markdown",
   "metadata": {
    "collapsed": false
   },
   "source": [
    "<b>Problem 2.8</b><br>\n",
    "<b>Which of the following are possible growth functions $m_\\mathcal{H}(N)$ for some hypothesis set: </b><br>\n",
    "<b>$1+N; 1+N+\\dfrac{N(N-1)}{2}; 2^N; 2^{\\lfloor \\sqrt{N}\\rfloor}; 2^{\\lfloor{N/2}\\rfloor}; 1+N+\\dfrac{N(N-1)(N-2)}{6}$</b><br>\n"
   ]
  },
  {
   "cell_type": "markdown",
   "metadata": {
    "collapsed": false
   },
   "source": [
    "Sauer's Lemma says that the growth function is either $2^N$ or else it is polynomially bounded.  So we can eliminate all the growth functions that are not $2^{N}$ or polynomially bounded.  These are  $2^{\\lfloor\\sqrt{N}\\rfloor}$ and $2^{\\lfloor{N/2}\\rfloor}$.\n",
    "\n",
    "There is a subtle reason that  $1+N+\\dfrac{N(N-1)(N-2)}{6}$ does not work. \n",
    "\n",
    "Suppose $m(N) = 1+N+\\dfrac{N(N-1)(N-2)}{6}$.\n",
    "\n",
    "By Sauer's Lemma (Theorem 2.4) if $m$ is a growth function and $m(d) < 2^{d+1}$ for any $d$ then $m(N) \\leq \\sum_{i=0}^d\\binom{N}{i}$ for all $N$.\n",
    "\n",
    "Observe that \n",
    "$1+d+\\dfrac{d(d-1)(d-2)}{6} < 2^{d+1}$ when $d=1$.\n",
    "\n",
    "But $1+N+\\dfrac{N(N-1)(N-2)}{6} > \\binom{N}{0}+\\binom{N}{1} = N+1$ for $N>2$.\n",
    "\n",
    "Therefore $1+N+\\dfrac{N(N-1)(N-2)}{6}$ cannot be a growth function.\n",
    "\n",
    "\n"
   ]
  },
  {
   "cell_type": "markdown",
   "metadata": {
    "collapsed": false
   },
   "source": [
    "#### Problem 6\n",
    "Please do Problem 2.1 on page 69 of Learning From Data. "
   ]
  },
  {
   "cell_type": "markdown",
   "metadata": {
    "collapsed": false
   },
   "source": [
    "<b>Problem 2.1</b><br>\n",
    "<b>In equation (2.1), set ($\\delta$ = 0.03) and let <br>\n",
    "$\\hspace{1cm}\\epsilon(M, N, \\delta$) = $\\sqrt{\\dfrac{1}{2N}\\ln\\dfrac{2M}{\\delta}}$.<b><br>\n",
    "\n",
    "<b>(a) For $M = 1$, how many examples do we need to make $\\epsilon \\leq 0.05$?</b><br><br>\n"
   ]
  },
  {
   "cell_type": "markdown",
   "metadata": {
    "collapsed": false
   },
   "source": [
    "<b>(b) For $M = 100$, how many examples do we need to make $\\epsilon \\leq 0.05$?</b><br><br>\n"
   ]
  },
  {
   "cell_type": "markdown",
   "metadata": {
    "collapsed": false
   },
   "source": [
    "<b>(c) For $M = 10,000$, how many examples do we need to make $\\epsilon \\leq 0.05$?</b><br><br>\n"
   ]
  },
  {
   "cell_type": "markdown",
   "metadata": {
    "collapsed": false
   },
   "source": [
    "From $\\hspace{1cm}\\epsilon(M, N, \\delta$) = $\\sqrt{\\dfrac{1}{2N}\\ln\\dfrac{2M}{\\delta}} < x$ we can derive\n",
    "\n",
    "$$ N > \\frac{1}{2x^2}\\ln(\\frac{2M}{\\delta}).$$\n",
    "\n",
    "We use this formula to solve for (a),(b) and (c) in the code below.\n",
    "\n"
   ]
  },
  {
   "cell_type": "code",
   "execution_count": 4,
   "metadata": {
    "collapsed": false
   },
   "outputs": [
    {
     "name": "stdout",
     "output_type": "stream",
     "text": [
      "(a): N > 839.9410155759854\n",
      "(b): N > 1760.9750527736035\n",
      "(c): N > 2682.009089971222\n"
     ]
    }
   ],
   "source": [
    "import numpy as np\n",
    "eps = lambda x,M,delta: 1/(2*x**2)*np.log(2*M/delta)\n",
    "\n",
    "#a\n",
    "print(\"(a): N >\",eps(0.05,1,0.03))\n",
    "\n",
    "#b\n",
    "print(\"(b): N >\",eps(0.05,100,0.03))\n",
    "\n",
    "#c\n",
    "print(\"(c): N >\",eps(0.05,10000,0.03))\n"
   ]
  },
  {
   "cell_type": "markdown",
   "metadata": {
    "collapsed": false
   },
   "source": [
    "#### Problem 7\n",
    "\n",
    "Suppose $\\mathcal{X} = \\{1,2,3,\\ldots,99,100\\}$.  For any subset $k \\subseteq \\mathcal{X}$ define $h_k: \\mathcal{X} \\rightarrow \\{1,-1\\}$ by \n",
    "\n",
    " \\begin{equation}\n",
    "h_k(x) = \\begin{cases}\n",
    "      +1 & \\text{ if } x\\in k \\\\\n",
    "      -1        & \\text{otherwise}\n",
    "    \\end{cases}\n",
    "  \\end{equation}\n",
    "  \n",
    "Suppose $\\mathcal{H} = \\{h_k: k \\subseteq \\mathcal{X}\\text{ and } |k|\\geq 90\\}$.  What is the VC dimension of $\\mathcal{H}$? \n",
    "\n",
    "Hints:\n",
    "1. Start by trying to shatter some simple sets like $\\{1\\}$, $\\{1,2\\}$ and $\\{1,2,3\\}$ just to get a feel for the problem. \n",
    "1. To show that the VC dimension is $\\geq d$, exhibit a shattered set of size $d$.\n",
    "1. To show that the VC dimension is $\\leq d$, argue that no subset of size $d+1$ can be shattered.\n",
    "1. Think about $\\mathcal{J} = \\{h_k: k \\subseteq \\mathcal{X}\\text{ and } |k| \\leq 10\\}$. Do you find this one simpler to analyze?  What is the connection between $\\mathcal{H}$ and $\\mathcal{J}$ in terms of shattered sets? "
   ]
  },
  {
   "cell_type": "markdown",
   "metadata": {
    "collapsed": false
   },
   "source": [
    "Answer: \n",
    "\n",
    "\n",
    "$\\mathcal{H} = \\{h_k: k \\subseteq \\mathcal{X}\\text{ and } |k|\\geq 90\\}$ shatters exactly the same sets as $\\mathcal{J} = \\{h_k: k \\subseteq \\mathcal{X}\\text{ and } |k| \\leq 10\\}$.\n",
    "\n",
    "To see why this is true consider any $S \\subseteq \\{1,2,3,\\ldots,99,100\\}$ and a dichotomy $h_+: S \\to \\{-1,+1\\}$ on $S$.  Notice that $\\mathcal{H}$ contains $h_+$ if and only if $\\mathcal{J}$ contains $h_-(s) = -h_+(s)$ (the complement of $h_+$).  For $S$ to be shattered, both $h_+$ and $h_-$ are required.  Thus if either $\\mathcal{H}$ or $\\mathcal{J}$ contains $h_+$ and $h_-$, then the other does as well.  This implies that $\\mathcal{H}$ and $\\mathcal{J}$ shatter exactly the same sets. \n",
    "\n",
    "But the VC dimension of $\\mathcal{J}$ is 10.  Why? It can realize any dichotomy on any ten elements by definition.  But it cannot realize the \"all +1\" dichotomy on any set of size 11. Therefore any set of size 10 is shattered but no set of size 11 is.  This implies that the VC dimension of $\\mathcal{J}$ is 10.\n",
    "\n",
    "Therefore the VC dimension of $\\mathcal{H}$ is also 10. \n"
   ]
  },
  {
   "cell_type": "markdown",
   "metadata": {
    "collapsed": false
   },
   "source": [
    "Answer 2:\n",
    "    \n",
    "Here's a another argument...  This is more to be read by a human than serve as a proof.  \n",
    "\n",
    "$$|\\mathcal{H}| = \\sum_{i=90}^{100}\\binom{100}{i} = \\sum_{i=0}^{10}\\binom{100}{i}$$\n",
    "\n",
    "(Because $\\binom{n}{k} = \\binom{n}{n-k}$.)\n",
    "\n",
    "In other words\n",
    "\n",
    "$$m_{\\mathcal{H}}(100) = \\sum_{i=0}^{10}\\binom{100}{i}.$$\n",
    "\n",
    "Therefore by [Sauer's Lemma ](https://en.wikipedia.org/wiki/Sauer%E2%80%93Shelah_lemma) the VC dimension is at least 9.\n",
    "\n",
    "The VC dimension is not 11 because no dichotomy in $\\mathcal{H}$ can take the value -1 on more than 10 points (by the definition of $\\mathcal{H}$).\n",
    "\n",
    "Complete the argument that the VC dimension is 10 by explaining why any dichotomy on $\\{1,2,3,4,5,6,7,8,9,10\\}$ can be realized by an element of $\\mathcal{H}$.\n",
    "\n",
    "\n",
    "\n"
   ]
  },
  {
   "cell_type": "code",
   "execution_count": 0,
   "metadata": {
    "collapsed": false
   },
   "outputs": [
   ],
   "source": [
   ]
  },
  {
   "cell_type": "code",
   "execution_count": 0,
   "metadata": {
    "collapsed": false
   },
   "outputs": [
   ],
   "source": [
   ]
  }
 ],
 "metadata": {
  "kernelspec": {
   "display_name": "Python 3 (Anaconda 5)",
   "env": {
    "LD_LIBRARY_PATH": "/ext/anaconda5/lib",
    "PYTHONHOME": "/ext/anaconda5/lib/python3.5",
    "PYTHONPATH": "/ext/anaconda5/lib/python3.5:/ext/anaconda5/lib/python3.5/site-packages"
   },
   "language": "python",
   "metadata": {
    "cocalc": {
     "description": "Python/R distribution for data science",
     "priority": 5,
     "url": "https://www.anaconda.com/distribution/"
    }
   },
   "name": "anaconda5"
  },
  "language_info": {
   "codemirror_mode": {
    "name": "ipython",
    "version": 3
   },
   "file_extension": ".py",
   "mimetype": "text/x-python",
   "name": "python",
   "nbconvert_exporter": "python",
   "pygments_lexer": "ipython3",
   "version": "3.6.7"
  },
  "name": "",
  "signature": "sha256:c373640861d76d72535bee5a6aa3afee0805d98999b77cfe9bfca05aff218c0b"
 },
 "nbformat": 4,
 "nbformat_minor": 0
}
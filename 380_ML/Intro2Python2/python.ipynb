{
 "cells": [
  {
   "cell_type": "markdown",
   "metadata": {
    "collapsed": false
   },
   "source": [
    "#### More intro to python...\n",
    "\n",
    "We continue where we left off in the previous intro worksheet.\n"
   ]
  },
  {
   "cell_type": "code",
   "execution_count": 1,
   "metadata": {
    "collapsed": false
   },
   "outputs": [
    {
     "name": "stdout",
     "output_type": "stream",
     "text": [
      "The unsorted list: [41, 36, 11, 16, 25, 36, 21, 26, 21, 0]\n",
      "The sorted list: [0, 11, 16, 21, 21, 25, 26, 36, 36, 41]\n"
     ]
    }
   ],
   "source": [
    "# Selection sort\n",
    "\n",
    "L = [(a**4)%50 for a in range(11,21)]\n",
    "print(\"The unsorted list:\",L)\n",
    "Lsorted = []\n",
    "while len(L)!=0:\n",
    "    Lsorted.append(L.pop(L.index(min(L))))\n",
    "print(\"The sorted list:\",Lsorted)\n"
   ]
  },
  {
   "cell_type": "code",
   "execution_count": 2,
   "metadata": {
    "collapsed": false
   },
   "outputs": [
   ],
   "source": [
    "# Exercise:\n",
    "## implement insertion sort\n",
    "L = [(a**4)%50 for a in range(11,21)]\n",
    "print(\"The unsorted list:\",L)\n",
    "Lsorted = []\n",
    "\n",
    "a = L[0]\n",
    "tempvalue = 0\n",
    "for i in L:\n",
    "   if L[i] > a:\n",
    "     tempvalue = \n"
   ]
  },
  {
   "cell_type": "markdown",
   "metadata": {
    "collapsed": false
   },
   "source": [
    "#### Dictionaries\n",
    "\n",
    "Python has a built-in associative array type called a `dict`.  This is similar to `map` in the C++ standard library.\n",
    "\n",
    "It is based on key value pairs.  \n",
    "\n",
    "In a standard array (or list) you can think of indexes as _keys_ and the array element at the indexed location as the _value_.\n",
    "\n",
    "For example if we do:\n",
    "\n",
    "    L = ['a','b','c','banana']\n",
    "    \n",
    "Then for the key 3, the value is 'banana'.  The rule for access is:\n",
    "    \n",
    "    L[key] == value\n",
    "\n",
    "Dictionaries are similar. The difference is that they keys do not have to be integers. They can be any \"[hashable](https://stackoverflow.com/questions/14535730/what-do-you-mean-by-hashable-in-python)\" object.\n",
    "\n",
    "Here are some examples.\n"
   ]
  },
  {
   "cell_type": "code",
   "execution_count": 3,
   "metadata": {
    "collapsed": false
   },
   "outputs": [
    {
     "data": {
      "text/plain": [
       "{3.14: 'pi', 2.71: 'e'}"
      ]
     },
     "execution_count": 3,
     "metadata": {
     },
     "output_type": "execute_result"
    }
   ],
   "source": [
    "D = dict()\n",
    "D[3.14] = \"pi\"\n",
    "D[2.71] = \"e\"\n",
    "D"
   ]
  },
  {
   "cell_type": "markdown",
   "metadata": {
    "collapsed": false
   },
   "source": [
    "If you know JSON format you will recognize the similarity to the presentation of the dictionary `D`.\n",
    "In python it is very easy to go from dictionaries to JSON and back again.\n",
    "This might be relevant at some point if we need to load JSON data.\n"
   ]
  },
  {
   "cell_type": "code",
   "execution_count": 4,
   "metadata": {
    "collapsed": false
   },
   "outputs": [
    {
     "data": {
      "text/plain": [
       "'pi'"
      ]
     },
     "execution_count": 4,
     "metadata": {
     },
     "output_type": "execute_result"
    }
   ],
   "source": [
    "D[3.14]"
   ]
  },
  {
   "cell_type": "code",
   "execution_count": 5,
   "metadata": {
    "collapsed": false
   },
   "outputs": [
   ],
   "source": [
    "## Exercise:\n",
    "\n",
    "##  Try to find the value in D for a key that doesn't exist (eg 5)."
   ]
  },
  {
   "cell_type": "code",
   "execution_count": 6,
   "metadata": {
    "collapsed": false
   },
   "outputs": [
    {
     "data": {
      "text/plain": [
       "dict_keys([3.14, 2.71])"
      ]
     },
     "execution_count": 6,
     "metadata": {
     },
     "output_type": "execute_result"
    }
   ],
   "source": [
    "D.keys()"
   ]
  },
  {
   "cell_type": "code",
   "execution_count": 7,
   "metadata": {
    "collapsed": false
   },
   "outputs": [
    {
     "data": {
      "text/plain": [
       "dict_items([(3.14, 'pi'), (2.71, 'e')])"
      ]
     },
     "execution_count": 7,
     "metadata": {
     },
     "output_type": "execute_result"
    }
   ],
   "source": [
    "D.items()"
   ]
  },
  {
   "cell_type": "code",
   "execution_count": 8,
   "metadata": {
    "collapsed": false
   },
   "outputs": [
    {
     "data": {
      "text/plain": [
       "dict_values(['pi', 'e'])"
      ]
     },
     "execution_count": 8,
     "metadata": {
     },
     "output_type": "execute_result"
    }
   ],
   "source": [
    "D.values()"
   ]
  },
  {
   "cell_type": "code",
   "execution_count": 9,
   "metadata": {
    "collapsed": false
   },
   "outputs": [
    {
     "name": "stdout",
     "output_type": "stream",
     "text": [
      "3.14\n",
      "2.71\n"
     ]
    }
   ],
   "source": [
    "#By default iteration is over keys\n",
    "for d in D:\n",
    "    print(d)"
   ]
  },
  {
   "cell_type": "code",
   "execution_count": 8,
   "metadata": {
    "collapsed": false
   },
   "outputs": [
    {
     "name": "stdout",
     "output_type": "stream",
     "text": [
      "pi is the key for the value 3.14\n",
      "e is the key for the value 2.71\n"
     ]
    }
   ],
   "source": [
    "# Exercise\n",
    "\n",
    "##  Create the inverse dictionary E of D.\n",
    "## That is, where D[key] = value, have E[value] = key.\n",
    "\n",
    "D = dict()\n",
    "D[3.14] = \"pi\"\n",
    "D[2.71] = \"e\"\n",
    "D\n",
    "E = dict()\n",
    "\n",
    "for e,d in D.items():\n",
    "    E[d] = e\n",
    "\n",
    "for e,d in E.items():\n",
    "    print(f\"{e} is the key for the value {d}\")\n"
   ]
  },
  {
   "cell_type": "markdown",
   "metadata": {
    "collapsed": false
   },
   "source": [
    "You will often see dictionaries defined in the following way:\n",
    "    "
   ]
  },
  {
   "cell_type": "code",
   "execution_count": 12,
   "metadata": {
    "collapsed": false
   },
   "outputs": [
    {
     "data": {
      "text/plain": [
       "{'hey': 'nonny', 'hi': 'ninny', 'ho': 'monny'}"
      ]
     },
     "execution_count": 12,
     "metadata": {
     },
     "output_type": "execute_result"
    }
   ],
   "source": [
    "F = {\"hey\":\"nonny\", \"hi\":\"ninny\", \"ho\":\"monny\"}\n",
    "F"
   ]
  },
  {
   "cell_type": "markdown",
   "metadata": {
    "collapsed": false
   },
   "source": [
    "One common use of a dictionary in data applications is to specify a pandas dataframe."
   ]
  },
  {
   "cell_type": "code",
   "execution_count": 13,
   "metadata": {
    "collapsed": false
   },
   "outputs": [
    {
     "data": {
      "text/html": [
       "<div>\n",
       "<style scoped>\n",
       "    .dataframe tbody tr th:only-of-type {\n",
       "        vertical-align: middle;\n",
       "    }\n",
       "\n",
       "    .dataframe tbody tr th {\n",
       "        vertical-align: top;\n",
       "    }\n",
       "\n",
       "    .dataframe thead th {\n",
       "        text-align: right;\n",
       "    }\n",
       "</style>\n",
       "<table border=\"1\" class=\"dataframe\">\n",
       "  <thead>\n",
       "    <tr style=\"text-align: right;\">\n",
       "      <th></th>\n",
       "      <th>a</th>\n",
       "      <th>b</th>\n",
       "      <th>c</th>\n",
       "    </tr>\n",
       "  </thead>\n",
       "  <tbody>\n",
       "    <tr>\n",
       "      <th>0</th>\n",
       "      <td>1</td>\n",
       "      <td>4</td>\n",
       "      <td>7</td>\n",
       "    </tr>\n",
       "    <tr>\n",
       "      <th>1</th>\n",
       "      <td>2</td>\n",
       "      <td>5</td>\n",
       "      <td>8</td>\n",
       "    </tr>\n",
       "    <tr>\n",
       "      <th>2</th>\n",
       "      <td>3</td>\n",
       "      <td>6</td>\n",
       "      <td>9</td>\n",
       "    </tr>\n",
       "  </tbody>\n",
       "</table>\n",
       "</div>"
      ]
     },
     "execution_count": 13,
     "metadata": {
     },
     "output_type": "execute_result"
    }
   ],
   "source": [
    "import pandas as pd\n",
    "\n",
    "data = {'a':[1,2,3],'b':[4,5,6],'c':[7,8,9]}\n",
    "df = pd.DataFrame(data)\n",
    "df"
   ]
  },
  {
   "cell_type": "markdown",
   "metadata": {
    "collapsed": false
   },
   "source": [
    "#### Sets \n",
    "\n",
    "As the name suggests, a set is an unordered list.  It can handle set theoretic operations (union, intersection, etc).\n",
    "\n",
    "One useful application of sets is to remove the duplicates from a list, as in the following example.\n",
    "\n"
   ]
  },
  {
   "cell_type": "code",
   "execution_count": 31,
   "metadata": {
    "collapsed": false
   },
   "outputs": [
    {
     "data": {
      "text/plain": [
       "'you will rejoice to hear that no disaster has acco'"
      ]
     },
     "execution_count": 31,
     "metadata": {
     },
     "output_type": "execute_result"
    }
   ],
   "source": [
    "Frankenstein = \"\"\"You will rejoice to hear that no disaster has accompanied the commencement of an enterprise which you have regarded with such evil forebodings. I arrived here yesterday, and my first task is to assure my dear sister of my welfare and increasing confidence in the success of my undertaking.\n",
    "\n",
    "I am already far north of London, and as I walk in the streets of Petersburgh, I feel a cold northern breeze play upon my cheeks, which braces my nerves and fills me with delight. Do you understand this feeling? This breeze, which has travelled from the regions towards which I am advancing, gives me a foretaste of those icy climes. Inspirited by this wind of promise, my daydreams become more fervent and vivid. I try in vain to be persuaded that the pole is the seat of frost and desolation; it ever presents itself to my imagination as the region of beauty and delight. There, Margaret, the sun is for ever visible, its broad disk just skirting the horizon and diffusing a perpetual splendour. There—for with your leave, my sister, I will put some trust in preceding navigators—there snow and frost are banished; and, sailing over a calm sea, we may be wafted to a land surpassing in wonders and in beauty every region hitherto discovered on the habitable globe. Its productions and features may be without example, as the phenomena of the heavenly bodies undoubtedly are in those undiscovered solitudes. What may not be expected in a country of eternal light? I may there discover the wondrous power which attracts the needle and may regulate a thousand celestial observations that require only this voyage to render their seeming eccentricities consistent for ever. I shall satiate my ardent curiosity with the sight of a part of the world never before visited, and may tread a land never before imprinted by the foot of man. These are my enticements, and they are sufficient to conquer all fear of danger or death and to induce me to commence this laborious voyage with the joy a child feels when he embarks in a little boat, with his holiday mates, on an expedition of discovery up his native river. But supposing all these conjectures to be false, you cannot contest the inestimable benefit which I shall confer on all mankind, to the last generation, by discovering a passage near the pole to those countries, to reach which at present so many months are requisite; or by ascertaining the secret of the magnet, which, if at all possible, can only be effected by an undertaking such as mine.\"\"\"\n",
    "\n",
    "F = Frankenstein.lower()\n",
    "F[:50]"
   ]
  },
  {
   "cell_type": "code",
   "execution_count": 18,
   "metadata": {
    "collapsed": false
   },
   "outputs": [
    {
     "data": {
      "text/plain": [
       "['y', 'o', 'u', ' ', 'w', 'i', 'l', 'l', ' ']"
      ]
     },
     "execution_count": 18,
     "metadata": {
     },
     "output_type": "execute_result"
    }
   ],
   "source": [
    "Fl = list(F)\n",
    "Fl[:9]"
   ]
  },
  {
   "cell_type": "code",
   "execution_count": 23,
   "metadata": {
    "collapsed": false
   },
   "outputs": [
   ],
   "source": [
    "Fl_no_punc = [a for a in Fl if ord(a) in range(ord('a'),ord('z')+1) or a==' ']\n",
    "F_no_punc = \"\".join(Fl_no_punc)"
   ]
  },
  {
   "cell_type": "code",
   "execution_count": 30,
   "metadata": {
    "collapsed": false
   },
   "outputs": [
    {
     "data": {
      "text/plain": [
       "'you will rejoice to hear that no disaster has acco'"
      ]
     },
     "execution_count": 30,
     "metadata": {
     },
     "output_type": "execute_result"
    }
   ],
   "source": [
    "F_no_punc[:50]"
   ]
  },
  {
   "cell_type": "code",
   "execution_count": 26,
   "metadata": {
    "collapsed": false
   },
   "outputs": [
    {
     "data": {
      "text/plain": [
       "['you', 'will', 'rejoice', 'to', 'hear']"
      ]
     },
     "execution_count": 26,
     "metadata": {
     },
     "output_type": "execute_result"
    }
   ],
   "source": [
    "words = F_no_punc.split()\n",
    "words[:5]"
   ]
  },
  {
   "cell_type": "code",
   "execution_count": 29,
   "metadata": {
    "collapsed": false
   },
   "outputs": [
    {
     "data": {
      "text/plain": [
       "(249, 432, 0.5763888888888888)"
      ]
     },
     "execution_count": 29,
     "metadata": {
     },
     "output_type": "execute_result"
    }
   ],
   "source": [
    "uniq_words = set(words)\n",
    "len(uniq_words),len(words),len(uniq_words)/len(words)"
   ]
  },
  {
   "cell_type": "markdown",
   "metadata": {
    "collapsed": false
   },
   "source": [
    "#### Functions\n",
    "\n",
    "Here we give examples of how to define functions in python.  Notice that indentation is crucial."
   ]
  },
  {
   "cell_type": "code",
   "execution_count": 38,
   "metadata": {
    "collapsed": false
   },
   "outputs": [
    {
     "data": {
      "text/plain": [
       "[' ',\n",
       " ' ',\n",
       " ' ',\n",
       " ' ',\n",
       " ' ',\n",
       " 'a',\n",
       " 'a',\n",
       " 'a',\n",
       " 'a',\n",
       " 'd',\n",
       " 'e',\n",
       " 'e',\n",
       " 'g',\n",
       " 'g',\n",
       " 'h',\n",
       " 'h',\n",
       " 'o',\n",
       " 'o',\n",
       " 'r',\n",
       " 't',\n",
       " 't',\n",
       " 'u',\n",
       " 'v',\n",
       " 'w',\n",
       " 'y']"
      ]
     },
     "execution_count": 38,
     "metadata": {
     },
     "output_type": "execute_result"
    }
   ],
   "source": [
    "def selection_sort(L):\n",
    "    _L = L[:]\n",
    "    Lsorted = []\n",
    "    while len(_L)!=0:\n",
    "        Lsorted.append(_L.pop(_L.index(min(_L))))\n",
    "    return Lsorted    \n",
    "\n",
    "L = list(\"what a great dog you have\")\n",
    "selection_sort(L)"
   ]
  },
  {
   "cell_type": "markdown",
   "metadata": {
    "collapsed": false
   },
   "source": [
    "You can pass functions to functions."
   ]
  },
  {
   "cell_type": "code",
   "execution_count": 39,
   "metadata": {
    "collapsed": false
   },
   "outputs": [
    {
     "data": {
      "text/plain": [
       "[' ',\n",
       " ' ',\n",
       " ' ',\n",
       " ' ',\n",
       " ' ',\n",
       " 'a',\n",
       " 'a',\n",
       " 'a',\n",
       " 'a',\n",
       " 'd',\n",
       " 'e',\n",
       " 'e',\n",
       " 'g',\n",
       " 'g',\n",
       " 'h',\n",
       " 'h',\n",
       " 'o',\n",
       " 'o',\n",
       " 'r',\n",
       " 't',\n",
       " 't',\n",
       " 'u',\n",
       " 'v',\n",
       " 'w',\n",
       " 'y']"
      ]
     },
     "execution_count": 39,
     "metadata": {
     },
     "output_type": "execute_result"
    }
   ],
   "source": [
    "def sort_wrapper(L, sort_method):\n",
    "    return sort_method(L)\n",
    "\n",
    "sort_wrapper(L,selection_sort)"
   ]
  },
  {
   "cell_type": "markdown",
   "metadata": {
    "collapsed": false
   },
   "source": [
    "Unlike C++, python functions can have optional parameters with default values."
   ]
  },
  {
   "cell_type": "code",
   "execution_count": 48,
   "metadata": {
    "collapsed": false
   },
   "outputs": [
    {
     "data": {
      "text/plain": [
       "(6.392010163749294, 40.85779393347428)"
      ]
     },
     "execution_count": 48,
     "metadata": {
     },
     "output_type": "execute_result"
    }
   ],
   "source": [
    "def bab_sqrt(S,iterations=3,initial_value=2):\n",
    "    \"\"\"Approximate the square root of S using the Babylonian method (Newton's method)\"\"\"\n",
    "    x = initial_value\n",
    "    for i in range(iterations):\n",
    "        x = 1/2*(x + S/x)\n",
    "    return x\n",
    "\n",
    "a = bab_sqrt(40)\n",
    "    \n",
    "a, a**2"
   ]
  },
  {
   "cell_type": "code",
   "execution_count": 49,
   "metadata": {
    "collapsed": false
   },
   "outputs": [
    {
     "data": {
      "text/plain": [
       "(6.324555320336758, 39.99999999999999)"
      ]
     },
     "execution_count": 49,
     "metadata": {
     },
     "output_type": "execute_result"
    }
   ],
   "source": [
    "# You can specify non-default values if you want:\n",
    "\n",
    "a = bab_sqrt(40,30,6)\n",
    "a,a**2"
   ]
  },
  {
   "cell_type": "code",
   "execution_count": 50,
   "metadata": {
    "collapsed": false
   },
   "outputs": [
    {
     "data": {
      "text/plain": [
       "(7.416198487095663, 55.0)"
      ]
     },
     "execution_count": 50,
     "metadata": {
     },
     "output_type": "execute_result"
    }
   ],
   "source": [
    "# If you don't know the order of the parameters you can do this:\n",
    "\n",
    "a = bab_sqrt(55, initial_value = 10, iterations = 100)\n",
    "a, a**2"
   ]
  },
  {
   "cell_type": "code",
   "execution_count": 0,
   "metadata": {
    "collapsed": false
   },
   "outputs": [
   ],
   "source": [
    "# The docstring shows up using the help function\n",
    "bab_sqrt?"
   ]
  },
  {
   "cell_type": "code",
   "execution_count": 51,
   "metadata": {
    "collapsed": false
   },
   "outputs": [
   ],
   "source": [
    "\n",
    "# Exercise:\n",
    "## implement GCD as a function"
   ]
  },
  {
   "cell_type": "code",
   "execution_count": 0,
   "metadata": {
    "collapsed": false
   },
   "outputs": [
   ],
   "source": [
    "#Exercise:\n",
    "\n",
    "## implement the dot product of two lists as a function.\n",
    "## make sure they are the same length!"
   ]
  }
 ],
 "metadata": {
  "kernelspec": {
   "display_name": "Python 3 (Ubuntu Linux)",
   "language": "python",
   "name": "python3"
  },
  "language_info": {
   "codemirror_mode": {
    "name": "ipython",
    "version": 3
   },
   "file_extension": ".py",
   "mimetype": "text/x-python",
   "name": "python",
   "nbconvert_exporter": "python",
   "pygments_lexer": "ipython3",
   "version": "3.6.7"
  }
 },
 "nbformat": 4,
 "nbformat_minor": 0
}
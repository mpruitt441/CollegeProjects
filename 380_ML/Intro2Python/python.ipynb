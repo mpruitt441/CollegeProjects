{
 "cells": [
  {
   "cell_type": "code",
   "execution_count": 0,
   "metadata": {
    "collapsed": false
   },
   "outputs": [
   ],
   "source": [
    "## Welcome to Python\n",
    "\n",
    "Python is an interpreted language with a simple syntax and lots of useful libraries.\n",
    "\n",
    "This document is a [Jupyter Notebook](https://jupyter.org/).\n",
    "\n",
    "You can use it to write text in [markdown](https://en.wikipedia.org/wiki/Markdown) (a simple HTML-like language), or run python code.\n",
    "\n",
    "The pulldown menu that lets you select between these is in the upper rightish corner:\n",
    "\n",
    "![md](md.png)\n",
    "\n",
    "\n",
    "By selecting different kernel options, you can even run C++, Sage, Octave or R.\n",
    "\n",
    "Here is what the Kernel pulldown looks like:\n",
    "\n",
    "![kernel](kernel.png)\n",
    "\n",
    "\n",
    "\n"
   ]
  },
  {
   "cell_type": "code",
   "execution_count": 9,
   "metadata": {
    "collapsed": false
   },
   "outputs": [
    {
     "name": "stdout",
     "output_type": "stream",
     "text": [
      "Hello WorldHello WorldHello World"
     ]
    }
   ],
   "source": [
    "\n",
    "// Try using the C++ kernel to run this cell\n",
    "\n",
    "#include <iostream>\n",
    "\n",
    "using namespace std;\n",
    "\n",
    "for(int i = 0; i < 3; i++)\n",
    "{\n",
    "    cout << \"Hello World\";\n",
    "}\n"
   ]
  },
  {
   "cell_type": "markdown",
   "metadata": {
    "collapsed": false
   },
   "source": [
    "\n",
    "### A Markdown Example\n",
    "\n",
    "Try executing this cell in markdown mode.  \n",
    "\n",
    "I think you'll **really** like the *results*.\n",
    "\n"
   ]
  },
  {
   "cell_type": "code",
   "execution_count": 1,
   "metadata": {
    "collapsed": false
   },
   "outputs": [
    {
     "name": "stdout",
     "output_type": "stream",
     "text": [
      "Hello World!\n"
     ]
    }
   ],
   "source": [
    "# Execute this cell using a Python 3 kernel\n",
    "\n",
    "print(\"Hello World!\")\n",
    "    \n",
    "    "
   ]
  },
  {
   "cell_type": "markdown",
   "metadata": {
    "collapsed": false
   },
   "source": [
    "You can interact with the Linux shell from inside a notebook file by prepending a ! to any shell command...."
   ]
  },
  {
   "cell_type": "code",
   "execution_count": 2,
   "metadata": {
    "collapsed": false
   },
   "outputs": [
    {
     "name": "stdout",
     "output_type": "stream",
     "text": [
      "kernel.png  md.png  python.ipynb  standalone.py\r\n"
     ]
    }
   ],
   "source": [
    "! ls"
   ]
  },
  {
   "cell_type": "code",
   "execution_count": 3,
   "metadata": {
    "collapsed": false
   },
   "outputs": [
   ],
   "source": [
    "#Exercise:  try executing the Linux \"env\" command inside this cell.\n",
    "\n"
   ]
  },
  {
   "cell_type": "markdown",
   "metadata": {
    "collapsed": false
   },
   "source": [
    "## Some quick Python...\n",
    "\n",
    "We don't need to know tons of python for this course.  We do need to know the basics though.\n",
    "\n",
    "You should already know C++.  There are 3 big differences between python and C++ you will notice right away:\n",
    "\n",
    "1.  You don't compile python, it just runs as a script.\n",
    "1.  There are no braces {} in python.  **Code blocks are determined by indentation.**\n",
    "1.  You don't need to declare variable types.  They are determined implicitly.\n",
    "\n",
    "Point (3) is nice, but it can lead to hard to find bugs so be careful.  If you want to check the type of a python variable you can do it using the `type()` command.\n"
   ]
  },
  {
   "cell_type": "code",
   "execution_count": 6,
   "metadata": {
    "collapsed": false
   },
   "outputs": [
    {
     "data": {
      "text/plain": [
       "(int, float, str)"
      ]
     },
     "execution_count": 6,
     "metadata": {
     },
     "output_type": "execute_result"
    }
   ],
   "source": [
    "a = 6\n",
    "b = 6.0\n",
    "c = \"hi\"\n",
    "type(a),type(b),type(c)"
   ]
  },
  {
   "cell_type": "markdown",
   "metadata": {
    "collapsed": false
   },
   "source": [
    "You can see that even though they are implicit, python still uses ints, floats and strings.  \n",
    "Also notice that the result of the last command in a cell is printed to the screen!\n",
    "\n",
    "Another thing that might be new to you with python is the arrays work.\n",
    "\n",
    "In python memory management is all done for you and you don't need to allocate space or anything like that.\n",
    "\n",
    "We call arrays _lists_.  \n",
    "\n",
    "Python lists are just variables inside hard brackets.\n"
   ]
  },
  {
   "cell_type": "code",
   "execution_count": 8,
   "metadata": {
    "collapsed": false
   },
   "outputs": [
    {
     "data": {
      "text/plain": [
       "[6, 6.0, 'hi']"
      ]
     },
     "execution_count": 8,
     "metadata": {
     },
     "output_type": "execute_result"
    }
   ],
   "source": [
    "a_list = [a,b,c]\n",
    "a_list"
   ]
  },
  {
   "cell_type": "markdown",
   "metadata": {
    "collapsed": false
   },
   "source": [
    "You access the elements of a list using basically the same notation as C++.  It's zero-based integer indexing.\n",
    "    \n",
    "For example ..."
   ]
  },
  {
   "cell_type": "code",
   "execution_count": 9,
   "metadata": {
    "collapsed": false
   },
   "outputs": [
    {
     "data": {
      "text/plain": [
       "'hi'"
      ]
     },
     "execution_count": 9,
     "metadata": {
     },
     "output_type": "execute_result"
    }
   ],
   "source": [
    "a_list[2]"
   ]
  },
  {
   "cell_type": "code",
   "execution_count": 3,
   "metadata": {
    "collapsed": false
   },
   "outputs": [
    {
     "data": {
      "text/plain": [
       "'test2'"
      ]
     },
     "execution_count": 3,
     "metadata": {
     },
     "output_type": "execute_result"
    }
   ],
   "source": [
    "# Exercise\n",
    "\n",
    "## In this cell create a list containing two numbers and two strings.\n",
    "## Try accesing the \"-1\"th element of your list.  What happened?\n",
    "test = [0,1,\"test1\",\"test2\"]\n",
    "test[-1]"
   ]
  },
  {
   "cell_type": "markdown",
   "metadata": {
    "collapsed": false
   },
   "source": [
    "An important type of list is a _range_.\n",
    "\n",
    "This produces a list of numbers from `a` to `b`.  If you want you can also introduce a \"stride length\".\n",
    "\n",
    "Usually `for` loops are over ranges of numbers.  Here are some examples.\n",
    "\n",
    "\n"
   ]
  },
  {
   "cell_type": "code",
   "execution_count": 5,
   "metadata": {
    "collapsed": false
   },
   "outputs": [
    {
     "data": {
      "text/plain": [
       "[2, 4, 6, 8]"
      ]
     },
     "execution_count": 5,
     "metadata": {
     },
     "output_type": "execute_result"
    }
   ],
   "source": [
    "list(range())"
   ]
  },
  {
   "cell_type": "code",
   "execution_count": 21,
   "metadata": {
    "collapsed": false
   },
   "outputs": [
    {
     "name": "stdout",
     "output_type": "stream",
     "text": [
      "0\n",
      "1\n",
      "2\n",
      "3\n"
     ]
    }
   ],
   "source": [
    "\n",
    "for i in range(4):\n",
    "    print(i)"
   ]
  },
  {
   "cell_type": "markdown",
   "metadata": {
    "collapsed": false
   },
   "source": [
    "# You can also specify the starting number (zero by default)\n",
    "for i in range(1,4):\n",
    "    print(i)"
   ]
  },
  {
   "cell_type": "code",
   "execution_count": 25,
   "metadata": {
    "collapsed": false
   },
   "outputs": [
    {
     "name": "stdout",
     "output_type": "stream",
     "text": [
      "10\n",
      "9\n",
      "8\n",
      "7\n",
      "6\n",
      "5\n",
      "4\n",
      "3\n",
      "2\n"
     ]
    }
   ],
   "source": [
    "# This time we specify the stridelength to be -1, so the range counts down\n",
    "for i in range(10,1,-1):\n",
    "    print(i)"
   ]
  },
  {
   "cell_type": "code",
   "execution_count": 7,
   "metadata": {
    "collapsed": false
   },
   "outputs": [
    {
     "data": {
      "text/plain": [
       "[0, 2, 4, 6, 8, 10]"
      ]
     },
     "execution_count": 7,
     "metadata": {
     },
     "output_type": "execute_result"
    }
   ],
   "source": [
    "# Exercise print the even numbers between 0 and 10\n",
    "\n",
    "list(range(0,11,2))"
   ]
  },
  {
   "cell_type": "markdown",
   "metadata": {
    "collapsed": false
   },
   "source": [
    "### Array slicing\n",
    "\n",
    "An important idea in python and especially in this class is array slicing.\n",
    "\n",
    "The basic syntax is \n",
    "\n",
    "    A[start:stop]\n",
    "\n",
    "where `A` is a list.  This returns a new array which is a copy of the subarray of `A` with indexes greater than or equal to `start` and strictly less than `stop`.\n",
    "\n",
    "For example:\n",
    "\n"
   ]
  },
  {
   "cell_type": "code",
   "execution_count": 54,
   "metadata": {
    "collapsed": false
   },
   "outputs": [
    {
     "data": {
      "text/plain": [
       "[2, 3, 4, 5, 6, 7]"
      ]
     },
     "execution_count": 54,
     "metadata": {
     },
     "output_type": "execute_result"
    }
   ],
   "source": [
    "A = list(range(10))\n",
    "A[2:8]\n",
    "    "
   ]
  },
  {
   "cell_type": "code",
   "execution_count": 55,
   "metadata": {
    "collapsed": false
   },
   "outputs": [
    {
     "data": {
      "text/plain": [
       "[0, 1, 2, 3, 4]"
      ]
     },
     "execution_count": 55,
     "metadata": {
     },
     "output_type": "execute_result"
    }
   ],
   "source": [
    "# If the start isn't given it's assumed to be zero\n",
    "\n",
    "A[:5]"
   ]
  },
  {
   "cell_type": "code",
   "execution_count": 56,
   "metadata": {
    "collapsed": false
   },
   "outputs": [
    {
     "data": {
      "text/plain": [
       "[2, 3, 4, 5, 6, 7, 8, 9]"
      ]
     },
     "execution_count": 56,
     "metadata": {
     },
     "output_type": "execute_result"
    }
   ],
   "source": [
    "#  If the stop isn't given we get the array all the way up to the end\n",
    "\n",
    "A[2:]"
   ]
  },
  {
   "cell_type": "code",
   "execution_count": 58,
   "metadata": {
    "collapsed": false
   },
   "outputs": [
    {
     "data": {
      "text/plain": [
       "[0, 2, 4, 6, 8]"
      ]
     },
     "execution_count": 58,
     "metadata": {
     },
     "output_type": "execute_result"
    }
   ],
   "source": [
    "#You can add a stride...\n",
    "# here the stop and the start are the default values\n",
    "A[::2]"
   ]
  },
  {
   "cell_type": "code",
   "execution_count": 8,
   "metadata": {
    "collapsed": false
   },
   "outputs": [
    {
     "data": {
      "text/plain": [
       "['this', 'a', 'but', 'becomes', 'list', 'strings', 'we', 'it']"
      ]
     },
     "execution_count": 8,
     "metadata": {
     },
     "output_type": "execute_result"
    }
   ],
   "source": [
    "## Exercise\n",
    "## Use array slicing to print out every other word of the sentence below\n",
    "\n",
    "S = \"this is a sentence but it becomes a list of strings when we split it\"\n",
    "L = S.split()\n",
    "L[::2]"
   ]
  },
  {
   "cell_type": "markdown",
   "metadata": {
    "collapsed": false
   },
   "source": [
    "#### Using libraries\n",
    "\n",
    "Libraries are used in python by using the \"import\" command.\n",
    "Like in C++, libraries expand the set of functions you can use in python.\n",
    "\n"
   ]
  },
  {
   "cell_type": "code",
   "execution_count": 16,
   "metadata": {
    "collapsed": false
   },
   "outputs": [
    {
     "data": {
      "image/png": "[encoded data removed]"
     },
     "execution_count": 16,
     "metadata": {
      "image/png": {
       "height": 250,
       "width": 373
      }
     },
     "output_type": "execute_result"
    }
   ],
   "source": [
    "import numpy as np\n",
    "import pandas as pd\n",
    "import matplotlib.pyplot as plt\n",
    "\n",
    "x = np.linspace(-1,1,100)\n",
    "y = x**2 # broadcasts operation squares everything in the array\n",
    "plt.plot(x,y)\n",
    "plt.show()"
   ]
  },
  {
   "cell_type": "code",
   "execution_count": 61,
   "metadata": {
    "collapsed": false
   },
   "outputs": [
    {
     "data": {
      "text/plain": [
       "(4.605170185988092, 2.718281828459045)"
      ]
     },
     "execution_count": 61,
     "metadata": {
     },
     "output_type": "execute_result"
    }
   ],
   "source": [
    "import math\n",
    "\n",
    "math.log(100), math.e\n",
    "\n"
   ]
  },
  {
   "cell_type": "code",
   "execution_count": 64,
   "metadata": {
    "collapsed": false
   },
   "outputs": [
    {
     "data": {
      "text/plain": [
       "(0, 0.8166279820784121)"
      ]
     },
     "execution_count": 64,
     "metadata": {
     },
     "output_type": "execute_result"
    }
   ],
   "source": [
    "# Uniform randomness\n",
    "# Not cryptographically secure\n",
    "import random\n",
    "\n",
    "random.randint(0,2),random.random()"
   ]
  },
  {
   "cell_type": "code",
   "execution_count": 68,
   "metadata": {
    "collapsed": false
   },
   "outputs": [
    {
     "data": {
      "text/plain": [
       "'a99969c35d5160f18823429ca736a93d6e12e061ce11761ac7ae53b4ddac5ff4'"
      ]
     },
     "execution_count": 68,
     "metadata": {
     },
     "output_type": "execute_result"
    }
   ],
   "source": [
    "import hashlib\n",
    "\n",
    "h = hashlib.sha256()\n",
    "\n",
    "h.update(\"machine learning doesn't use hashing\".encode())\n",
    "h.hexdigest()"
   ]
  },
  {
   "cell_type": "code",
   "execution_count": 18,
   "metadata": {
    "collapsed": false
   },
   "outputs": [
    {
     "data": {
      "text/plain": [
       "[-0.9999999958776927,\n",
       " -0.999999969540041,\n",
       " -0.9999997749296758,\n",
       " -0.9999983369439447,\n",
       " -0.9999877116507956,\n",
       " -0.9999092042625951,\n",
       " -0.999329299739067,\n",
       " -0.9950547536867305,\n",
       " -0.9640275800758169,\n",
       " -0.7615941559557649,\n",
       " 0.0,\n",
       " 0.7615941559557649,\n",
       " 0.9640275800758169,\n",
       " 0.9950547536867305,\n",
       " 0.999329299739067,\n",
       " 0.9999092042625951,\n",
       " 0.9999877116507956,\n",
       " 0.9999983369439447,\n",
       " 0.9999997749296758,\n",
       " 0.999999969540041,\n",
       " 0.9999999958776927]"
      ]
     },
     "execution_count": 18,
     "metadata": {
     },
     "output_type": "execute_result"
    }
   ],
   "source": [
    "#Exercise\n",
    "\n",
    "## Use the math library to find hyperbolic tangent of all the numbers in range(-10,11)\n",
    "import math\n",
    "[math.tanh(x) for x in range (-10,11)]"
   ]
  },
  {
   "cell_type": "markdown",
   "metadata": {
    "collapsed": false
   },
   "source": [
    "#### Slick tricks\n",
    "\n",
    "There are a few nice ways to do things fast in python.  Here is a quick sketch of some of them...\n",
    "\n"
   ]
  },
  {
   "cell_type": "code",
   "execution_count": 24,
   "metadata": {
    "collapsed": false
   },
   "outputs": [
    {
     "ename": "SyntaxError",
     "evalue": "invalid syntax (<ipython-input-24-34bf8a276bf9>, line 22)",
     "output_type": "error",
     "traceback": [
      "\u001b[0;36m  File \u001b[0;32m\"<ipython-input-24-34bf8a276bf9>\"\u001b[0;36m, line \u001b[0;32m22\u001b[0m\n\u001b[0;31m    print( a**2%100 if a in A)\u001b[0m\n\u001b[0m                             ^\u001b[0m\n\u001b[0;31mSyntaxError\u001b[0m\u001b[0;31m:\u001b[0m invalid syntax\n"
     ]
    }
   ],
   "source": [
    "## List comprehensions\n",
    "\n",
    "A = range(100)\n",
    "# print([a for a in A if (a**2)%100 == 1] )\n",
    "\n",
    "## The form is:\n",
    "\n",
    "#[a for a in Some_Container if Some_Condition]\n",
    "\n",
    "## You can also do\n",
    "\n",
    "#[f(a) for a in Some_Container if Some_Condition]\n",
    "\n",
    "## where f is any function\n",
    "\n",
    "## Exercise:\n",
    "\n",
    "## The code above shows that \"1\" has some \"square roots\" mod 100.\n",
    "## Compute the set of all \"squares\" mod 100.\n",
    "\n",
    "A = range(100)\n",
    "print( a**2%100 if a in A)"
   ]
  },
  {
   "cell_type": "code",
   "execution_count": 91,
   "metadata": {
    "collapsed": false
   },
   "outputs": [
    {
     "data": {
      "text/plain": [
       "['all', 'that', 'contain', \"'a'\"]"
      ]
     },
     "execution_count": 91,
     "metadata": {
     },
     "output_type": "execute_result"
    }
   ],
   "source": [
    "S = \"let's find all the words in this sentence that contain 'a'\"\n",
    "[w for w in S.split() if 'a' in w]"
   ]
  },
  {
   "cell_type": "raw",
   "metadata": {
    "collapsed": false
   },
   "source": [
    "## Exercise:\n",
    "\n",
    "S = \"find all the words in this sentence that have length at least four\"\n",
    "len(S)\n",
    "a for a in S.split print(a) if len(a)>=4"
   ]
  },
  {
   "cell_type": "code",
   "execution_count": 28,
   "metadata": {
    "collapsed": false
   },
   "outputs": [
    {
     "ename": "SyntaxError",
     "evalue": "invalid syntax (<ipython-input-28-abaf9e6ee700>, line 3)",
     "output_type": "error",
     "traceback": [
      "\u001b[0;36m  File \u001b[0;32m\"<ipython-input-28-abaf9e6ee700>\"\u001b[0;36m, line \u001b[0;32m3\u001b[0m\n\u001b[0;31m    a for a in S.split print(a) if len(a)>=4\u001b[0m\n\u001b[0m        ^\u001b[0m\n\u001b[0;31mSyntaxError\u001b[0m\u001b[0;31m:\u001b[0m invalid syntax\n"
     ]
    }
   ],
   "source": [
    "S = \"find all the words in this sentence that have length at least four\"\n",
    "len(S)\n",
    "a for a in S.split print(a) if len(a)>=4"
   ]
  },
  {
   "cell_type": "markdown",
   "metadata": {
    "collapsed": false
   },
   "source": [
    "## Control structures\n",
    "\n",
    "Like C++ python allows you to branch on conditions.  There are while loops as well as for loops.\n",
    "\n",
    "Below I'm going to write a variety of programs.  You can use them as a reference for the exercises given after.\n"
   ]
  },
  {
   "cell_type": "code",
   "execution_count": 32,
   "metadata": {
    "collapsed": false
   },
   "outputs": [
    {
     "name": "stdout",
     "output_type": "stream",
     "text": [
      "5050\n",
      "50.5\n"
     ]
    }
   ],
   "source": [
    "total = 0\n",
    "for i in range(101):\n",
    "    total += i\n",
    "print(total)  #The sum of 1,2,3,...,100\n",
    "print(total/100) # The average of 1,2,3,...,100"
   ]
  },
  {
   "cell_type": "code",
   "execution_count": 37,
   "metadata": {
    "collapsed": false
   },
   "outputs": [
    {
     "data": {
      "text/plain": [
       "2.7182831876793716"
      ]
     },
     "execution_count": 37,
     "metadata": {
     },
     "output_type": "execute_result"
    }
   ],
   "source": [
    "e_recip = (1-1/1000000)**1000000  # Exponentiation is denoted **\n",
    "\n",
    "1/e_recip"
   ]
  },
  {
   "cell_type": "code",
   "execution_count": 31,
   "metadata": {
    "collapsed": false
   },
   "outputs": [
    {
     "name": "stdout",
     "output_type": "stream",
     "text": [
      "0\n",
      "11\n",
      "18 is even better than sliced bread\n",
      "22\n",
      "33\n",
      "36 is even better than sliced bread\n",
      "44\n",
      "54 is even better than sliced bread\n",
      "55\n",
      "66\n",
      "72 is even better than sliced bread\n",
      "77\n",
      "88\n",
      "90 is even better than sliced bread\n",
      "99\n"
     ]
    }
   ],
   "source": [
    "for i in range(100):\n",
    "    if i%11 == 0:\n",
    "        print(i)\n",
    "    elif i%18 == 0:\n",
    "        print(\"{} is even better than {}\".format(i,\"sliced bread\"))"
   ]
  },
  {
   "cell_type": "code",
   "execution_count": 33,
   "metadata": {
    "collapsed": false
   },
   "outputs": [
    {
     "data": {
      "text/plain": [
       "[0, 2, 4, 6, 8, 10, 12, 14, 16, 18]"
      ]
     },
     "execution_count": 33,
     "metadata": {
     },
     "output_type": "execute_result"
    }
   ],
   "source": [
    "## Exercise \n",
    "## Print out the first 10 powers of 2\n",
    "\n",
    "[2*p for p in range(10)]"
   ]
  },
  {
   "cell_type": "code",
   "execution_count": 0,
   "metadata": {
    "collapsed": false
   },
   "outputs": [
   ],
   "source": [
    "## Exercise...\n",
    "\n",
    "## Sum the series 2/(n*(n+1)) for n = 1,2,...,10000\n",
    "\n"
   ]
  },
  {
   "cell_type": "code",
   "execution_count": 42,
   "metadata": {
    "collapsed": false
   },
   "outputs": [
    {
     "data": {
      "text/plain": [
       "1.9998000199980015"
      ]
     },
     "execution_count": 42,
     "metadata": {
     },
     "output_type": "execute_result"
    }
   ],
   "source": [
    "# Another approach\n",
    "\n",
    "sum([2/(n*(n+1)) for n in range(1,10001)])"
   ]
  },
  {
   "cell_type": "code",
   "execution_count": 50,
   "metadata": {
    "collapsed": false
   },
   "outputs": [
    {
     "data": {
      "text/plain": [
       "[2, 3, 5, 7, 11, 13, 17, 19, 23, 29, 31, 37, 41, 43, 47, 53, 59, 61, 67, 71]"
      ]
     },
     "execution_count": 50,
     "metadata": {
     },
     "output_type": "execute_result"
    }
   ],
   "source": [
    "## The sieve of eratosthenes...\n",
    "import math\n",
    "N = 10000\n",
    "sqrtN = int(math.sqrt(N))\n",
    "numbers = range(2,N)\n",
    "is_prime = N*[True]\n",
    "## is_prime  = [True, True, True,...,True] one thousand times\n",
    "\n",
    "for n in numbers[:sqrtN+1]:\n",
    "    if not is_prime[n]:\n",
    "        continue\n",
    "    for j in range(2,N // n):\n",
    "        is_prime[j*n] = False\n",
    "\n",
    "primes_less_than_N = [p for p in numbers if is_prime[p]]\n",
    "primes_less_than_N[:20]"
   ]
  },
  {
   "cell_type": "code",
   "execution_count": 0,
   "metadata": {
    "collapsed": false
   },
   "outputs": [
   ],
   "source": [
    "## Exercise:\n",
    "\n",
    "## Cover up or delete the above code and try to do it again yourself"
   ]
  },
  {
   "cell_type": "code",
   "execution_count": 0,
   "metadata": {
    "collapsed": false
   },
   "outputs": [
   ],
   "source": [
    "## Exercise:\n",
    "\n",
    "##  Try to do a task from rosettacode in python:  http://www.rosettacode.org/wiki/Category:Programming_Tasks\n",
    "\n",
    "## Also, look at python solutions to other problems and try to understand them.  "
   ]
  }
 ],
 "metadata": {
  "kernelspec": {
   "display_name": "Python 3 (Ubuntu Linux)",
   "language": "python",
   "name": "python3"
  },
  "language_info": {
   "codemirror_mode": {
    "name": "ipython",
    "version": 3
   },
   "file_extension": ".py",
   "mimetype": "text/x-python",
   "name": "python",
   "nbconvert_exporter": "python",
   "pygments_lexer": "ipython3",
   "version": "3.6.7"
  }
 },
 "nbformat": 4,
 "nbformat_minor": 0
}